{
 "cells": [
  {
   "cell_type": "markdown",
   "id": "35321443-8ca1-4e7c-ab61-346170e0ea20",
   "metadata": {},
   "source": [
    "1) Write a Python program to convert degree to radian."
   ]
  },
  {
   "cell_type": "code",
   "execution_count": 18,
   "id": "ae8bd118-e09f-496a-ba71-49d925c98fb1",
   "metadata": {},
   "outputs": [
    {
     "name": "stdin",
     "output_type": "stream",
     "text": [
      "Enter the degree:  15\n"
     ]
    },
    {
     "name": "stdout",
     "output_type": "stream",
     "text": [
      "Radians: 0.2617993877991494\n",
      "0.261799\n"
     ]
    }
   ],
   "source": [
    "import math\n",
    "def myfunc(degree):\n",
    "    return degree * (math.pi/180)\n",
    "degree = float(input(\"Enter the degree: \")) \n",
    "radians = myfunc(degree) \n",
    "print(\"Radians:\", myfunc(degree))  \n",
    "print(f\"{radians:.6f}\")"
   ]
  },
  {
   "cell_type": "markdown",
   "id": "a99bba75-2f83-4e25-bb8b-bc24822b3679",
   "metadata": {},
   "source": [
    "2) Write a Python program to calculate the area of a trapezoid."
   ]
  },
  {
   "cell_type": "raw",
   "id": "d4ceed07-ca97-4b72-8ce4-1e366aa65fa4",
   "metadata": {},
   "source": [
    "Height: 5\n",
    "Base, first value: 5\n",
    "Base, second value: 6\n",
    "Expected Output: 27.5"
   ]
  },
  {
   "cell_type": "code",
   "execution_count": 25,
   "id": "058913e0-c79e-4b74-9a1d-98abcc4f2ced",
   "metadata": {},
   "outputs": [
    {
     "name": "stdin",
     "output_type": "stream",
     "text": [
      "Enter the height: 5\n",
      "Enter the first value: 5\n",
      "Enter the second value: 6\n"
     ]
    },
    {
     "name": "stdout",
     "output_type": "stream",
     "text": [
      "Area of a trapezoid is 27.5\n"
     ]
    }
   ],
   "source": [
    "height = float(input(\"Enter the height:\"))\n",
    "base1 = float(input(\"Enter the first value:\"))\n",
    "base2 = float(input(\"Enter the second value:\"))\n",
    "area = ((base1 + base2) / 2) * height\n",
    "print(\"Area of a trapezoid is\", area)"
   ]
  },
  {
   "cell_type": "markdown",
   "id": "2e2ab7ea-d423-4f1b-b06b-ad95b4222d1d",
   "metadata": {},
   "source": [
    "3) Write a Python program to calculate the area of regular polygon."
   ]
  },
  {
   "cell_type": "raw",
   "id": "d2a4ae53-bbac-4388-bbd1-e8a059e6214a",
   "metadata": {},
   "source": [
    "Input number of sides: 4\n",
    "Input the length of a side: 25\n",
    "The area of the polygon is: 625"
   ]
  },
  {
   "cell_type": "code",
   "execution_count": 8,
   "id": "af1f5446-f3ff-47f1-8430-d1f59ecd30f7",
   "metadata": {},
   "outputs": [
    {
     "name": "stdin",
     "output_type": "stream",
     "text": [
      "Input number of sides: 4\n",
      "Input the length of a side: 25\n"
     ]
    },
    {
     "name": "stdout",
     "output_type": "stream",
     "text": [
      "The area of the polygon is:  625\n"
     ]
    }
   ],
   "source": [
    "import math\n",
    "sides = int(input(\"Input number of sides:\"))\n",
    "length = float(input(\"Input the length of a side:\"))\n",
    "perimetr = sides * length\n",
    "apothem = length / (2 * math.tan(math.pi / sides))\n",
    "area = (1/2)*apothem*perimetr\n",
    "print(\"The area of the polygon is: \", int(area))"
   ]
  },
  {
   "cell_type": "markdown",
   "id": "3f588ded-5ac4-4c00-bd9b-e15c5aed1175",
   "metadata": {},
   "source": [
    "4) Write a Python program to calculate the area of a parallelogram."
   ]
  },
  {
   "cell_type": "raw",
   "id": "2d7ac1af-21e9-4669-a9ab-78bcdab1e3a3",
   "metadata": {},
   "source": [
    "Length of base: 5\n",
    "Height of parallelogram: 6\n",
    "Expected Output: 30.0"
   ]
  },
  {
   "cell_type": "code",
   "execution_count": 11,
   "id": "7f00401c-b1c3-4f9c-9879-77eb1cad7388",
   "metadata": {},
   "outputs": [
    {
     "name": "stdin",
     "output_type": "stream",
     "text": [
      "Input the length of a base: 5\n",
      "Input the height: 6\n"
     ]
    },
    {
     "name": "stdout",
     "output_type": "stream",
     "text": [
      "The area of the parallelogram is:  30.0\n"
     ]
    }
   ],
   "source": [
    "length = float(input(\"Input the length of a base:\"))\n",
    "height = float(input(\"Input the height:\"))\n",
    "area = length*height\n",
    "print(\"The area of the parallelogram is: \", area)"
   ]
  },
  {
   "cell_type": "code",
   "execution_count": null,
   "id": "bb6ca286-43c8-47d5-a2a8-903409ec7799",
   "metadata": {},
   "outputs": [],
   "source": []
  }
 ],
 "metadata": {
  "kernelspec": {
   "display_name": "Python [conda env:base] *",
   "language": "python",
   "name": "conda-base-py"
  },
  "language_info": {
   "codemirror_mode": {
    "name": "ipython",
    "version": 3
   },
   "file_extension": ".py",
   "mimetype": "text/x-python",
   "name": "python",
   "nbconvert_exporter": "python",
   "pygments_lexer": "ipython3",
   "version": "3.12.7"
  }
 },
 "nbformat": 4,
 "nbformat_minor": 5
}
