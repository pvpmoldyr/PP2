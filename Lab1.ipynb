{
 "cells": [
  {
   "cell_type": "markdown",
   "id": "300b9c50-b14d-4635-a0f6-db7c6d12f203",
   "metadata": {},
   "source": [
    "Example 1\n"
   ]
  },
  {
   "cell_type": "code",
   "execution_count": 233,
   "id": "1a12ce91-6771-4f6a-a6f7-2d34be1d42f4",
   "metadata": {},
   "outputs": [
    {
     "name": "stdout",
     "output_type": "stream",
     "text": [
      "Hello World\n"
     ]
    }
   ],
   "source": [
    "print(\"Hello World\")"
   ]
  },
  {
   "cell_type": "markdown",
   "id": "678f47db-6f2b-4fc3-bcec-2e75e8fe0c0e",
   "metadata": {},
   "source": [
    "Example 2\n"
   ]
  },
  {
   "cell_type": "code",
   "execution_count": 8,
   "id": "c393f7a7-aea0-4232-948e-57f5425e3d57",
   "metadata": {},
   "outputs": [
    {
     "name": "stdout",
     "output_type": "stream",
     "text": [
      "3.12.7 | packaged by Anaconda, Inc. | (main, Oct  4 2024, 13:17:27) [MSC v.1929 64 bit (AMD64)]\n"
     ]
    }
   ],
   "source": [
    "import sys\n",
    "print(sys.version)"
   ]
  },
  {
   "cell_type": "markdown",
   "id": "913038c9-cc6b-4dcb-a862-7214e3480972",
   "metadata": {},
   "source": [
    "Example 3\n"
   ]
  },
  {
   "cell_type": "code",
   "execution_count": 11,
   "id": "1c416ec3-bb57-4012-b46c-cc0f6dfcbd90",
   "metadata": {},
   "outputs": [
    {
     "name": "stdout",
     "output_type": "stream",
     "text": [
      "Five greater than two\n"
     ]
    }
   ],
   "source": [
    "if 5>2:\n",
    "    print(\"Five greater than two\")"
   ]
  },
  {
   "cell_type": "markdown",
   "id": "fd670d38-543b-4842-8889-23233b86978c",
   "metadata": {},
   "source": [
    "Example 4 with syntax error "
   ]
  },
  {
   "cell_type": "code",
   "execution_count": 14,
   "id": "3576c887-d0c6-457e-9f95-facf19377fce",
   "metadata": {},
   "outputs": [
    {
     "ename": "IndentationError",
     "evalue": "expected an indented block after 'if' statement on line 1 (2547166130.py, line 2)",
     "output_type": "error",
     "traceback": [
      "\u001b[1;36m  Cell \u001b[1;32mIn[14], line 2\u001b[1;36m\u001b[0m\n\u001b[1;33m    print(\"Five greater than two\")\u001b[0m\n\u001b[1;37m    ^\u001b[0m\n\u001b[1;31mIndentationError\u001b[0m\u001b[1;31m:\u001b[0m expected an indented block after 'if' statement on line 1\n"
     ]
    }
   ],
   "source": [
    "if 5>2:\n",
    "print(\"Five greater than two\")"
   ]
  },
  {
   "cell_type": "markdown",
   "id": "01caad40-9ce4-4780-8ab8-3dae5ac0c102",
   "metadata": {},
   "source": [
    "Example 5"
   ]
  },
  {
   "cell_type": "code",
   "execution_count": 17,
   "id": "54850258-e7c4-41f6-9d73-ea9fde23b990",
   "metadata": {},
   "outputs": [
    {
     "name": "stdout",
     "output_type": "stream",
     "text": [
      "Five is greater than two\n",
      "Five is greater than two\n"
     ]
    }
   ],
   "source": [
    "if 5 > 2:\n",
    " print(\"Five is greater than two\")  \n",
    "if 5 > 2:\n",
    "        print(\"Five is greater than two\") "
   ]
  },
  {
   "cell_type": "markdown",
   "id": "9ade1d42-e7e8-4212-807b-3b29aa075fa0",
   "metadata": {},
   "source": [
    "Example 6 with syntax error"
   ]
  },
  {
   "cell_type": "code",
   "execution_count": 20,
   "id": "82ccc742-fd3f-4d8e-a4ba-5b3bfe71f45b",
   "metadata": {},
   "outputs": [
    {
     "ename": "IndentationError",
     "evalue": "unexpected indent (3894525104.py, line 3)",
     "output_type": "error",
     "traceback": [
      "\u001b[1;36m  Cell \u001b[1;32mIn[20], line 3\u001b[1;36m\u001b[0m\n\u001b[1;33m    print(\"Five is greater than two\")\u001b[0m\n\u001b[1;37m    ^\u001b[0m\n\u001b[1;31mIndentationError\u001b[0m\u001b[1;31m:\u001b[0m unexpected indent\n"
     ]
    }
   ],
   "source": [
    "if 5>2:\n",
    "    print(\"Five is greater than two\")\n",
    "        print(\"Five is greater than two\")"
   ]
  },
  {
   "cell_type": "markdown",
   "id": "24f335ed-0365-4efe-a971-3f4bd4e61713",
   "metadata": {},
   "source": [
    "Example 7"
   ]
  },
  {
   "cell_type": "code",
   "execution_count": 235,
   "id": "f4c4ca01-42a0-4b03-9b36-ed6388fbd728",
   "metadata": {},
   "outputs": [
    {
     "name": "stdout",
     "output_type": "stream",
     "text": [
      "5\n",
      "Hello World\n"
     ]
    }
   ],
   "source": [
    "x=5\n",
    "y=\"Hello World\"\n",
    "print(x)\n",
    "print(y)"
   ]
  },
  {
   "cell_type": "markdown",
   "id": "e94f1df3-bd03-4753-bf5a-281cccfae3e3",
   "metadata": {},
   "source": [
    "Example 8"
   ]
  },
  {
   "cell_type": "code",
   "execution_count": 26,
   "id": "359f5319-c609-4262-b209-739191588176",
   "metadata": {},
   "outputs": [
    {
     "name": "stdout",
     "output_type": "stream",
     "text": [
      "Hello World!!!\n"
     ]
    }
   ],
   "source": [
    "#This is comment)\n",
    "print(\"Hello World!!!\")"
   ]
  },
  {
   "cell_type": "markdown",
   "id": "abdef16e-341b-4d3b-ae6b-ea545f99a48b",
   "metadata": {},
   "source": [
    "Example 9"
   ]
  },
  {
   "cell_type": "code",
   "execution_count": 29,
   "id": "190e3947-1885-4d4f-af04-08892a319a5d",
   "metadata": {},
   "outputs": [
    {
     "name": "stdout",
     "output_type": "stream",
     "text": [
      "Hello comment\n"
     ]
    }
   ],
   "source": [
    "print(\"Hello comment\") #Comment"
   ]
  },
  {
   "cell_type": "markdown",
   "id": "edba8f08-c6e7-4796-85e7-385ead4a8dc0",
   "metadata": {},
   "source": [
    "Example 10"
   ]
  },
  {
   "cell_type": "code",
   "execution_count": 32,
   "id": "7800590a-5898-4f7a-98e4-c4b3de8ac8a3",
   "metadata": {},
   "outputs": [
    {
     "name": "stdout",
     "output_type": "stream",
     "text": [
      "Cheers mate\n"
     ]
    }
   ],
   "source": [
    "#print(\"Hello World\")\n",
    "print(\"Cheers mate\")"
   ]
  },
  {
   "cell_type": "markdown",
   "id": "4dc020f4-acae-4776-a294-2f9da3ab7346",
   "metadata": {},
   "source": [
    "Example 11"
   ]
  },
  {
   "cell_type": "code",
   "execution_count": 35,
   "id": "15ae1715-35ba-4388-8d87-cedfa63d2d06",
   "metadata": {},
   "outputs": [
    {
     "name": "stdout",
     "output_type": "stream",
     "text": [
      "Hello people\n"
     ]
    }
   ],
   "source": [
    "#This is\n",
    "# a comment\n",
    "# written in\n",
    "# more than one line\n",
    "print(\"Hello people\")"
   ]
  },
  {
   "cell_type": "markdown",
   "id": "172d9353-e0a3-43bc-ad4a-f5771245f62c",
   "metadata": {},
   "source": [
    "Example 12\n"
   ]
  },
  {
   "cell_type": "code",
   "execution_count": 38,
   "id": "f99563d4-ec24-44fa-9164-680cb78fa944",
   "metadata": {},
   "outputs": [
    {
     "name": "stdout",
     "output_type": "stream",
     "text": [
      "Hello multiple commets\n"
     ]
    }
   ],
   "source": [
    "\"\"\"\n",
    "This is a comment\n",
    "written in\n",
    "more than one line\n",
    "without ###\n",
    "\"\"\"\n",
    "print(\"Hello multiple commets\")\n"
   ]
  },
  {
   "cell_type": "markdown",
   "id": "93c929bd-b071-44f6-b0a6-540b2b8bedfa",
   "metadata": {},
   "source": [
    "Example 13"
   ]
  },
  {
   "cell_type": "code",
   "execution_count": 41,
   "id": "e3b17039-0493-4733-84f9-ae140aefbd51",
   "metadata": {},
   "outputs": [
    {
     "name": "stdout",
     "output_type": "stream",
     "text": [
      "5\n",
      "Moldyr\n"
     ]
    }
   ],
   "source": [
    "x=5\n",
    "y=\"Moldyr\"\n",
    "print(x)\n",
    "print(y)"
   ]
  },
  {
   "cell_type": "markdown",
   "id": "3791f43b-a7be-4ae5-915c-13b8eb3f7f74",
   "metadata": {},
   "source": [
    "Example 14"
   ]
  },
  {
   "cell_type": "code",
   "execution_count": 44,
   "id": "56d804e7-72c0-4803-90f8-043f2eefde7f",
   "metadata": {},
   "outputs": [
    {
     "name": "stdout",
     "output_type": "stream",
     "text": [
      "Sallyy\n"
     ]
    }
   ],
   "source": [
    "x = 4       # x is of type int\n",
    "x = \"Sallyy\" # x is now of type str\n",
    "print(x)"
   ]
  },
  {
   "cell_type": "markdown",
   "id": "0b4810f2-c248-4e94-a9df-a625e06542ff",
   "metadata": {},
   "source": [
    "Example 15"
   ]
  },
  {
   "cell_type": "code",
   "execution_count": 51,
   "id": "bff1d903-04af-4f66-a24c-a7602a89a214",
   "metadata": {},
   "outputs": [
    {
     "name": "stdout",
     "output_type": "stream",
     "text": [
      "3 3 3.0\n"
     ]
    }
   ],
   "source": [
    "x=str(3) # x will be '3'\n",
    "y=int(3) # y will be 3\n",
    "z=float(3)  # z will be 3.0\n",
    "print(x,y,z)"
   ]
  },
  {
   "cell_type": "markdown",
   "id": "6ccc6785-0f7f-4526-8f22-ec634d447a29",
   "metadata": {},
   "source": [
    "Example 16"
   ]
  },
  {
   "cell_type": "code",
   "execution_count": 56,
   "id": "aa5c54a1-363c-437e-a829-429453034c97",
   "metadata": {},
   "outputs": [
    {
     "name": "stdout",
     "output_type": "stream",
     "text": [
      "<class 'int'>\n",
      "<class 'str'>\n"
     ]
    }
   ],
   "source": [
    "x=6\n",
    "y=\"Not John\"\n",
    "print(type(x))\n",
    "print(type(y))"
   ]
  },
  {
   "cell_type": "markdown",
   "id": "d1b808a2-32e0-4a8b-afd7-4cad5c5247b3",
   "metadata": {},
   "source": [
    "Example 17"
   ]
  },
  {
   "cell_type": "code",
   "execution_count": 59,
   "id": "2c37b8e8-bccd-45e7-b9c8-4be2fea3a2be",
   "metadata": {},
   "outputs": [
    {
     "name": "stdout",
     "output_type": "stream",
     "text": [
      "John\n",
      "John\n"
     ]
    }
   ],
   "source": [
    "x = \"John\"\n",
    "print(x)\n",
    "#double quotes are the same as single quotes:\n",
    "x = 'John'\n",
    "print(x)"
   ]
  },
  {
   "cell_type": "markdown",
   "id": "1719a7c3-9867-4f81-9486-9a218631ea63",
   "metadata": {},
   "source": [
    "Example 18"
   ]
  },
  {
   "cell_type": "code",
   "execution_count": 66,
   "id": "1bf62924-843e-4c3a-8b06-1ed0bd7f8b65",
   "metadata": {},
   "outputs": [
    {
     "name": "stdout",
     "output_type": "stream",
     "text": [
      "4\n",
      "Sally\n"
     ]
    }
   ],
   "source": [
    "a=4\n",
    "A=\"Sally\"\n",
    "#A will not overwrite a, becouse it is not the same thing\n",
    "print(a)\n",
    "print(A)"
   ]
  },
  {
   "cell_type": "markdown",
   "id": "905c7863-2558-4446-bed5-90bc29f5ebef",
   "metadata": {},
   "source": [
    "Example 19"
   ]
  },
  {
   "cell_type": "code",
   "execution_count": 69,
   "id": "06da3169-dc2f-4539-af9b-3e88c7144a99",
   "metadata": {},
   "outputs": [
    {
     "name": "stdout",
     "output_type": "stream",
     "text": [
      "John\n",
      "John 2x\n",
      "John 3x\n",
      "John 4x\n",
      "John 5x\n",
      "John 6x\n"
     ]
    }
   ],
   "source": [
    "myvar=\"John\"\n",
    "my_var=\"John 2x\"\n",
    "_my_var=\"John 3x\"\n",
    "myVar=\"John 4x\"\n",
    "MYVAR=\"John 5x\"\n",
    "myvar2=\"John 6x\"\n",
    "\n",
    "print(myvar)\n",
    "print(my_var)\n",
    "print(_my_var)\n",
    "print(myVar)\n",
    "print(MYVAR)\n",
    "print(myvar2)"
   ]
  },
  {
   "cell_type": "markdown",
   "id": "97e6eae1-6ce4-4fb2-a1f2-dd8ab907368b",
   "metadata": {},
   "source": [
    " Example 20 with illegal variable names"
   ]
  },
  {
   "cell_type": "code",
   "execution_count": 111,
   "id": "71f97fe6-0f44-4647-a97f-a8ed812f1fb2",
   "metadata": {},
   "outputs": [
    {
     "ename": "SyntaxError",
     "evalue": "invalid decimal literal (1144648768.py, line 1)",
     "output_type": "error",
     "traceback": [
      "\u001b[1;36m  Cell \u001b[1;32mIn[111], line 1\u001b[1;36m\u001b[0m\n\u001b[1;33m    2myvar = \"John7x\"\u001b[0m\n\u001b[1;37m    ^\u001b[0m\n\u001b[1;31mSyntaxError\u001b[0m\u001b[1;31m:\u001b[0m invalid decimal literal\n"
     ]
    }
   ],
   "source": [
    "2myvar = \"John7x\"\n",
    "my-var = \"John8x\"\n",
    "my var = \"John9x\""
   ]
  },
  {
   "cell_type": "markdown",
   "id": "85ade14f-c958-4376-a7f5-7824fbb1c0c2",
   "metadata": {},
   "source": [
    "Example 21\n"
   ]
  },
  {
   "cell_type": "code",
   "execution_count": 75,
   "id": "0b22b682-6e10-48cc-a2ed-c3818e824c71",
   "metadata": {},
   "outputs": [],
   "source": [
    "#Camel case\n",
    "myVariableName = \"John10x\"\n",
    "#Pascal case\n",
    "MyVariableName = \"John11x\"\n",
    "#Snake case\n",
    "my_variable_name = \"John12x\""
   ]
  },
  {
   "cell_type": "markdown",
   "id": "7f13ce4f-c521-498f-9dbc-bdf8dcb81c05",
   "metadata": {},
   "source": [
    "Example 22"
   ]
  },
  {
   "cell_type": "code",
   "execution_count": 86,
   "id": "442033b6-c163-4200-aaf1-00a42c2b416f",
   "metadata": {},
   "outputs": [
    {
     "name": "stdout",
     "output_type": "stream",
     "text": [
      "Orange\n",
      "Banana\n",
      "Cherry\n"
     ]
    }
   ],
   "source": [
    "x, y, z = \"Orange\", \"Banana\", \"Cherry\"\n",
    "print(x)\n",
    "print(y)\n",
    "print(z)"
   ]
  },
  {
   "cell_type": "markdown",
   "id": "88b3d379-d04a-4717-a75a-d55ae85ba5d3",
   "metadata": {},
   "source": [
    "Example 23"
   ]
  },
  {
   "cell_type": "code",
   "execution_count": 81,
   "id": "b255cf41-d25c-4a58-9fd7-4d3e52bdbc2a",
   "metadata": {},
   "outputs": [
    {
     "name": "stdout",
     "output_type": "stream",
     "text": [
      "Orange\n",
      "Orange\n",
      "Orange\n"
     ]
    }
   ],
   "source": [
    "x = y = z = \"Orange\"\n",
    "print(x)\n",
    "print(y)\n",
    "print(z)"
   ]
  },
  {
   "cell_type": "markdown",
   "id": "2e77b160-222a-441a-9bd4-d6f3aff708cd",
   "metadata": {},
   "source": [
    "Example 24"
   ]
  },
  {
   "cell_type": "code",
   "execution_count": 84,
   "id": "4cf23698-f1ac-4a51-8d0d-c1b42273a695",
   "metadata": {},
   "outputs": [
    {
     "name": "stdout",
     "output_type": "stream",
     "text": [
      "orange\n",
      "banana\n",
      "cherry\n"
     ]
    }
   ],
   "source": [
    "fruits=[\"orange\", \"banana\", \"cherry\"]\n",
    "x, y, z = fruits\n",
    "print(x)\n",
    "print(y)\n",
    "print(z)"
   ]
  },
  {
   "cell_type": "markdown",
   "id": "1f1742d6-8c76-47b0-945f-1810191e96cf",
   "metadata": {},
   "source": [
    "Example 25"
   ]
  },
  {
   "cell_type": "code",
   "execution_count": 94,
   "id": "f3597e77-5929-437a-aff8-82d2aaa97c2d",
   "metadata": {},
   "outputs": [
    {
     "name": "stdout",
     "output_type": "stream",
     "text": [
      "Python is awesome(- _ -)\n"
     ]
    }
   ],
   "source": [
    "x = \"Python is awesome(- _ -)\"\n",
    "print(x)"
   ]
  },
  {
   "cell_type": "markdown",
   "id": "64aa470f-0b61-41fb-809a-12f123804ed3",
   "metadata": {},
   "source": [
    "Example 26"
   ]
  },
  {
   "cell_type": "code",
   "execution_count": 92,
   "id": "5083ae64-e4d6-47ae-a7fd-5b79e80dc007",
   "metadata": {},
   "outputs": [
    {
     "name": "stdout",
     "output_type": "stream",
     "text": [
      "Python is awesome\n"
     ]
    }
   ],
   "source": [
    "x = \"Python\"\n",
    "y = \"is\"\n",
    "z = \"awesome\"\n",
    "print(x, y, z)"
   ]
  },
  {
   "cell_type": "markdown",
   "id": "d8c285ac-3dc3-4fbb-a4ef-6d5c0b6a5645",
   "metadata": {},
   "source": [
    "Example 27"
   ]
  },
  {
   "cell_type": "code",
   "execution_count": 99,
   "id": "a4b1c8be-de7a-4c2f-a31a-c32e5dd3e088",
   "metadata": {},
   "outputs": [
    {
     "name": "stdout",
     "output_type": "stream",
     "text": [
      "Python is awesome 3x\n"
     ]
    }
   ],
   "source": [
    "x = \"Python \"\n",
    "y = \"is \"\n",
    "z = \"awesome 3x\"\n",
    "print(x + y + z)"
   ]
  },
  {
   "cell_type": "markdown",
   "id": "b4b97d31-8da5-494e-8951-70f2452ac124",
   "metadata": {},
   "source": [
    "Example 28"
   ]
  },
  {
   "cell_type": "code",
   "execution_count": 102,
   "id": "77fa4791-8b0c-4f91-b901-4fc49515342c",
   "metadata": {},
   "outputs": [
    {
     "name": "stdout",
     "output_type": "stream",
     "text": [
      "15\n"
     ]
    }
   ],
   "source": [
    "x = 5\n",
    "y = 10\n",
    "print(x + y)"
   ]
  },
  {
   "cell_type": "markdown",
   "id": "93d44be5-bf36-4a57-96d3-8b7fb82e4ec3",
   "metadata": {},
   "source": [
    "Example 29 with error"
   ]
  },
  {
   "cell_type": "code",
   "execution_count": 113,
   "id": "127a7f5d-ab43-45e5-a708-a17f40f32895",
   "metadata": {},
   "outputs": [
    {
     "ename": "TypeError",
     "evalue": "unsupported operand type(s) for +: 'int' and 'str'",
     "output_type": "error",
     "traceback": [
      "\u001b[1;31m---------------------------------------------------------------------------\u001b[0m",
      "\u001b[1;31mTypeError\u001b[0m                                 Traceback (most recent call last)",
      "Cell \u001b[1;32mIn[113], line 3\u001b[0m\n\u001b[0;32m      1\u001b[0m x \u001b[38;5;241m=\u001b[39m \u001b[38;5;241m5\u001b[39m\n\u001b[0;32m      2\u001b[0m y \u001b[38;5;241m=\u001b[39m \u001b[38;5;124m\"\u001b[39m\u001b[38;5;124mJohn13x\u001b[39m\u001b[38;5;124m\"\u001b[39m\n\u001b[1;32m----> 3\u001b[0m \u001b[38;5;28mprint\u001b[39m(x \u001b[38;5;241m+\u001b[39m y)\n",
      "\u001b[1;31mTypeError\u001b[0m: unsupported operand type(s) for +: 'int' and 'str'"
     ]
    }
   ],
   "source": [
    "x = 5\n",
    "y = \"John13x\"\n",
    "print(x + y)"
   ]
  },
  {
   "cell_type": "markdown",
   "id": "74ebdc5f-aec2-4ab9-8f54-3e5a73eccaec",
   "metadata": {},
   "source": [
    "Example 30"
   ]
  },
  {
   "cell_type": "code",
   "execution_count": 115,
   "id": "8ee2bdc0-5cef-46f4-b2c7-cc4d482afb45",
   "metadata": {},
   "outputs": [
    {
     "name": "stdout",
     "output_type": "stream",
     "text": [
      "5 John14x\n"
     ]
    }
   ],
   "source": [
    "x = 5\n",
    "y = \"John14x\"\n",
    "print(x, y)"
   ]
  },
  {
   "cell_type": "markdown",
   "id": "0e24a247-bb5e-4d74-94de-e26c7b8302c1",
   "metadata": {},
   "source": [
    "Example 31"
   ]
  },
  {
   "cell_type": "code",
   "execution_count": 120,
   "id": "88bccf44-9d18-43a2-88d1-16e5819c45ca",
   "metadata": {},
   "outputs": [
    {
     "name": "stdout",
     "output_type": "stream",
     "text": [
      "python is awesome\n"
     ]
    }
   ],
   "source": [
    "x=\"awesome\"\n",
    "\n",
    "def myfunc():\n",
    "    print(\"python is \" + x)\n",
    "myfunc()"
   ]
  },
  {
   "cell_type": "markdown",
   "id": "02248bb0-3576-4967-b46e-ea2cf7253448",
   "metadata": {},
   "source": [
    "Example 32"
   ]
  },
  {
   "cell_type": "code",
   "execution_count": 127,
   "id": "a1e2dacb-f574-4341-b7e6-21fe30c80711",
   "metadata": {},
   "outputs": [
    {
     "name": "stdout",
     "output_type": "stream",
     "text": [
      "Python is fantastic!\n",
      "Python is awesome)\n"
     ]
    }
   ],
   "source": [
    "x = \"awesome)\"\n",
    "\n",
    "def myfunc():\n",
    "  x = \"fantastic!\"\n",
    "  print(\"Python is \" + x)\n",
    "\n",
    "myfunc()\n",
    "\n",
    "print(\"Python is \" + x)"
   ]
  },
  {
   "cell_type": "markdown",
   "id": "f3e0cbf2-7f8f-4490-87c9-565502a0c83a",
   "metadata": {},
   "source": [
    "Example 33"
   ]
  },
  {
   "cell_type": "code",
   "execution_count": 1,
   "id": "62503bf6-bb85-4ed8-a1e8-66ecbbc97223",
   "metadata": {},
   "outputs": [
    {
     "name": "stdout",
     "output_type": "stream",
     "text": [
      "Python is fantastic\n"
     ]
    }
   ],
   "source": [
    "def myfunc():\n",
    "  global x\n",
    "  x = \"fantastic\"\n",
    "\n",
    "myfunc()\n",
    "\n",
    "print(\"Python is \" + x)"
   ]
  },
  {
   "cell_type": "markdown",
   "id": "1eca7027-f2dc-4cfb-86bd-ea4fe787721c",
   "metadata": {},
   "source": [
    "Example 34"
   ]
  },
  {
   "cell_type": "code",
   "execution_count": 11,
   "id": "70d390e6-1225-4017-94c0-16081a8075b5",
   "metadata": {},
   "outputs": [
    {
     "name": "stdout",
     "output_type": "stream",
     "text": [
      "Python is fantastic\n"
     ]
    }
   ],
   "source": [
    "x = \"awesome\"\n",
    "\n",
    "def myfunc():\n",
    "    global x\n",
    "    x = \"fantastic\"\n",
    "\n",
    "myfunc()\n",
    "\n",
    "print(\"Python is \" + x)"
   ]
  },
  {
   "cell_type": "markdown",
   "id": "f85ff800-81f0-4051-b2c1-7cdb1abe0345",
   "metadata": {},
   "source": [
    "Example 35\n"
   ]
  },
  {
   "cell_type": "code",
   "execution_count": 26,
   "id": "b82e7e51-bc80-4f21-8216-15bd26bc6d6f",
   "metadata": {},
   "outputs": [
    {
     "name": "stdout",
     "output_type": "stream",
     "text": [
      "5\n",
      "<class 'int'>\n",
      "Hello World\n",
      "<class 'str'>\n",
      "20.5\n",
      "<class 'float'>\n",
      "1j\n",
      "<class 'complex'>\n",
      "['apple', 'banana', 'cherry']\n",
      "<class 'list'>\n",
      "('apple', 'banana', 'cherry')\n",
      "<class 'tuple'>\n",
      "{'apple', 'banana', 'cherry'}\n",
      "<class 'set'>\n",
      "frozenset({'apple', 'banana', 'cherry'})\n",
      "<class 'frozenset'>\n",
      "range(0, 6)\n",
      "<class 'range'>\n",
      "{'name': 'John', 'age': 36}\n",
      "<class 'dict'>\n",
      "True\n",
      "<class 'bool'>\n",
      "b'hello'\n",
      "<class 'bytes'>\n",
      "bytearray(b'\\x00\\x00\\x00\\x00\\x00')\n",
      "<class 'bytearray'>\n",
      "<memory at 0x0000016907BE9480>\n",
      "<class 'memoryview'>\n",
      "None\n",
      "<class 'NoneType'>\n"
     ]
    }
   ],
   "source": [
    "#1\n",
    "x = 5\n",
    "print(x)\n",
    "print(type(x))\n",
    "#2\n",
    "x = \"Hello World\"\n",
    "print(x)\n",
    "print(type(x)) \n",
    "#3\n",
    "x = 20.5\n",
    "print(x)\n",
    "print(type(x))\n",
    "#4\n",
    "complexx = 1j\n",
    "print(complexx)\n",
    "print(type(complexx))\n",
    "#5\n",
    "listt = [\"apple\", \"banana\", \"cherry\"]\n",
    "print(listt)\n",
    "print(type(listt))\n",
    "#6 Кортеж\n",
    "tuplee = (\"apple\", \"banana\", \"cherry\")\n",
    "print(tuplee)\n",
    "print(type(tuplee))\n",
    "#7\n",
    "sett = {\"apple\", \"banana\", \"cherry\"}\n",
    "print(sett)\n",
    "print(type(sett))\n",
    "#8\n",
    "fsett = frozenset({\"apple\", \"banana\", \"cherry\"})\n",
    "print(fsett)\n",
    "print(type(fsett))\n",
    "#9\n",
    "x = range(6)\n",
    "print(x)\n",
    "print(type(x))\n",
    "#10 Map \n",
    "dictt = {\"name\" : \"John\", \"age\" : 36}\n",
    "print(dictt)\n",
    "print(type(dictt))\n",
    "#11\n",
    "x = True\n",
    "print(x)\n",
    "print(type(x))\n",
    "#12 Bytes\n",
    "x = b'hello'\n",
    "print(x)\n",
    "print(type(x))\n",
    "#13\n",
    "x = bytearray(5)\n",
    "print(x)\n",
    "print(type(x))\n",
    "#14\n",
    "x = memoryview(bytes(5))\n",
    "print(x)\n",
    "print(type(x))\n",
    "#15\n",
    "x = None\n",
    "print(x)\n",
    "print(type(x))"
   ]
  },
  {
   "cell_type": "markdown",
   "id": "e926d189-40ef-45de-bd46-69813e0e89ca",
   "metadata": {},
   "source": [
    "Example 36"
   ]
  },
  {
   "cell_type": "code",
   "execution_count": 32,
   "id": "46771714-8596-485a-a994-1cd5e51a212d",
   "metadata": {},
   "outputs": [
    {
     "name": "stdout",
     "output_type": "stream",
     "text": [
      "<class 'int'>\n",
      "<class 'int'>\n",
      "<class 'int'>\n",
      "<class 'float'>\n",
      "<class 'float'>\n",
      "<class 'float'>\n",
      "<class 'float'>\n",
      "<class 'float'>\n",
      "<class 'float'>\n",
      "<class 'complex'>\n",
      "<class 'complex'>\n",
      "<class 'complex'>\n",
      "1.0\n",
      "2\n",
      "(1+0j)\n",
      "<class 'float'>\n",
      "<class 'int'>\n",
      "<class 'complex'>\n"
     ]
    }
   ],
   "source": [
    "#1 \n",
    "x = 1\n",
    "y = 35656222554887711\n",
    "z = -3255522\n",
    "\n",
    "print(type(x))\n",
    "print(type(y))\n",
    "print(type(z))\n",
    "#2\n",
    "x = 1.10\n",
    "y = 1.0\n",
    "z = -35.59\n",
    "\n",
    "print(type(x))\n",
    "print(type(y))\n",
    "print(type(z))\n",
    "#3\n",
    "x = 35e3\n",
    "y = 12E4\n",
    "z = -87.7e100\n",
    "\n",
    "print(type(x))\n",
    "print(type(y))\n",
    "print(type(z))\n",
    "#4\n",
    "x = 3+5j\n",
    "y = 5j\n",
    "z = -5j\n",
    "\n",
    "print(type(x))\n",
    "print(type(y))\n",
    "print(type(z))\n",
    "#5\n",
    "x = float(1)\n",
    "y = int(2.8)\n",
    "z = complex(1)\n",
    "\n",
    "print(x)\n",
    "print(y)\n",
    "print(z)\n",
    "\n",
    "print(type(x))\n",
    "print(type(y))\n",
    "print(type(z))\n"
   ]
  },
  {
   "cell_type": "markdown",
   "id": "fc0ecf8b-e5cb-4fde-82ae-5e17fed3b5ad",
   "metadata": {},
   "source": [
    "Example 37"
   ]
  },
  {
   "cell_type": "code",
   "execution_count": 37,
   "id": "65f26d39-3d2b-41fd-94cc-b1344d5df705",
   "metadata": {},
   "outputs": [
    {
     "name": "stdout",
     "output_type": "stream",
     "text": [
      "9\n"
     ]
    }
   ],
   "source": [
    "import random \n",
    "print(random.randrange(1,10))"
   ]
  },
  {
   "cell_type": "markdown",
   "id": "24fe88c5-b20e-4b9d-8d12-3b19da4408b9",
   "metadata": {},
   "source": [
    "Example 38"
   ]
  },
  {
   "cell_type": "code",
   "execution_count": 40,
   "id": "c691530c-5991-4f8a-8d21-92ddf901ef4d",
   "metadata": {},
   "outputs": [
    {
     "name": "stdout",
     "output_type": "stream",
     "text": [
      "1\n",
      "2\n",
      "3\n",
      "1.0\n",
      "2.8\n",
      "3.0\n",
      "4.2\n",
      "s1\n",
      "2\n",
      "3.0\n"
     ]
    }
   ],
   "source": [
    "#1\n",
    "x = int(1)\n",
    "y = int(2.8)\n",
    "z = int(\"3\")\n",
    "print(x)\n",
    "print(y)\n",
    "print(z)\n",
    "#2\n",
    "x = float(1)\n",
    "y = float(2.8)\n",
    "z = float(\"3\")\n",
    "w = float(\"4.2\")\n",
    "print(x)\n",
    "print(y)\n",
    "print(z)\n",
    "print(w)\n",
    "#3\n",
    "x = str(\"s1\")\n",
    "y = str(2)\n",
    "z = str(3.0)\n",
    "print(x)\n",
    "print(y)\n",
    "print(z)"
   ]
  },
  {
   "cell_type": "markdown",
   "id": "9de9606b-528a-496f-802d-d38e41feb42f",
   "metadata": {},
   "source": [
    "Example 39"
   ]
  },
  {
   "cell_type": "code",
   "execution_count": 43,
   "id": "a14aceee-5529-40b0-a86d-b4f2775efdde",
   "metadata": {},
   "outputs": [
    {
     "name": "stdout",
     "output_type": "stream",
     "text": [
      "Hello\n",
      "Hello\n",
      "It's alright\n",
      "He is called 'Johnny'\n",
      "He is called \"Johnny\"\n",
      "Hellooooo\n",
      "This is my\n",
      "first laboratory work\n",
      "in second semester\n"
     ]
    }
   ],
   "source": [
    "#1\n",
    "print(\"Hello\")\n",
    "print('Hello')\n",
    "#2\n",
    "print(\"It's alright\")\n",
    "print(\"He is called 'Johnny'\")\n",
    "print('He is called \"Johnny\"')\n",
    "#3\n",
    "a = \"Hellooooo\"\n",
    "print(a)\n",
    "#4\n",
    "a = \"\"\"This is my\n",
    "first laboratory work\n",
    "in second semester\"\"\"\n",
    "print(a)"
   ]
  },
  {
   "cell_type": "markdown",
   "id": "244316da-bd4b-49f9-8311-19e2170ebea1",
   "metadata": {},
   "source": [
    "Example 40"
   ]
  },
  {
   "cell_type": "code",
   "execution_count": 46,
   "id": "f62bbd45-c146-4264-960b-024a60c097d2",
   "metadata": {},
   "outputs": [
    {
     "name": "stdout",
     "output_type": "stream",
     "text": [
      "e\n"
     ]
    }
   ],
   "source": [
    "a = \"Hello, World!\"\n",
    "print(a[1])"
   ]
  },
  {
   "cell_type": "markdown",
   "id": "a5574e0d-1c9d-4392-b275-14fb3a835961",
   "metadata": {},
   "source": [
    "Example 41"
   ]
  },
  {
   "cell_type": "code",
   "execution_count": 49,
   "id": "19f94a2c-6758-4a26-84af-8497806fca03",
   "metadata": {},
   "outputs": [
    {
     "name": "stdout",
     "output_type": "stream",
     "text": [
      "b\n",
      "a\n",
      "n\n",
      "a\n",
      "n\n",
      "a\n"
     ]
    }
   ],
   "source": [
    "for x in \"banana\":\n",
    "    print(x)"
   ]
  },
  {
   "cell_type": "markdown",
   "id": "18e96331-c8c7-4190-a9ea-2ccafda3e2a8",
   "metadata": {},
   "source": [
    "Example 42"
   ]
  },
  {
   "cell_type": "code",
   "execution_count": 52,
   "id": "2315a94d-d445-4a9c-86c0-ac2eee7f8f0e",
   "metadata": {},
   "outputs": [
    {
     "name": "stdout",
     "output_type": "stream",
     "text": [
      "13\n"
     ]
    }
   ],
   "source": [
    "a = \"Hello, World!\"\n",
    "print(len(a))"
   ]
  },
  {
   "cell_type": "markdown",
   "id": "eb52fc04-9668-4b61-b8a9-691d2eea2c1d",
   "metadata": {},
   "source": [
    "Example 43"
   ]
  },
  {
   "cell_type": "code",
   "execution_count": 55,
   "id": "7ca21dec-ca18-4646-a07a-81404e5c28f4",
   "metadata": {},
   "outputs": [
    {
     "name": "stdout",
     "output_type": "stream",
     "text": [
      "True\n"
     ]
    }
   ],
   "source": [
    "txt = \"The best things in life are free!\"\n",
    "print(\"free\" in txt)"
   ]
  },
  {
   "cell_type": "markdown",
   "id": "a9a5c274-bc0e-4a79-a01b-9ff0d1cc948e",
   "metadata": {},
   "source": [
    "Example 44"
   ]
  },
  {
   "cell_type": "code",
   "execution_count": 58,
   "id": "bbe96555-9d26-4869-9d52-a2c3ab5790bb",
   "metadata": {},
   "outputs": [
    {
     "name": "stdout",
     "output_type": "stream",
     "text": [
      "Yes, 'free' is present.\n"
     ]
    }
   ],
   "source": [
    "txt = \"The best things in life are free!\"\n",
    "if \"free\" in txt:\n",
    "  print(\"Yes, 'free' is present.\")\n"
   ]
  },
  {
   "cell_type": "markdown",
   "id": "b9a076f7-78ec-409e-a64f-541263321a6c",
   "metadata": {},
   "source": [
    "Example 45"
   ]
  },
  {
   "cell_type": "code",
   "execution_count": 61,
   "id": "cf682220-3e31-4c95-9fa3-e30ae6306b96",
   "metadata": {},
   "outputs": [
    {
     "name": "stdout",
     "output_type": "stream",
     "text": [
      "True\n"
     ]
    }
   ],
   "source": [
    "txt = \"The best things in life are free!\"\n",
    "print(\"expensive\" not in txt)"
   ]
  },
  {
   "cell_type": "markdown",
   "id": "6197419a-8cfc-4777-a0a7-58d9da36147b",
   "metadata": {},
   "source": [
    "Example 46"
   ]
  },
  {
   "cell_type": "code",
   "execution_count": 64,
   "id": "94af17ac-f0c0-4526-b8de-24686a152c0a",
   "metadata": {},
   "outputs": [
    {
     "name": "stdout",
     "output_type": "stream",
     "text": [
      "No, 'expensive' is NOT present.\n"
     ]
    }
   ],
   "source": [
    "txt = \"The best things in life are free!\"\n",
    "if \"expensive\" not in txt:\n",
    "  print(\"No, 'expensive' is NOT present.\")"
   ]
  },
  {
   "cell_type": "markdown",
   "id": "cf103175-bd19-4164-be35-69717666a7a0",
   "metadata": {},
   "source": [
    "Example 47"
   ]
  },
  {
   "cell_type": "code",
   "execution_count": 67,
   "id": "e84f45cd-943a-4e36-8c2a-1d88ebb66f52",
   "metadata": {},
   "outputs": [
    {
     "name": "stdout",
     "output_type": "stream",
     "text": [
      "llo\n"
     ]
    }
   ],
   "source": [
    "b = \"Hello, World!\"\n",
    "print(b[2:5])"
   ]
  },
  {
   "cell_type": "markdown",
   "id": "e22188eb-db85-45f2-8ddb-e959d20e304e",
   "metadata": {},
   "source": [
    "Example 48"
   ]
  },
  {
   "cell_type": "code",
   "execution_count": 70,
   "id": "d2ac1f4a-3cec-4d0e-9f99-950ac0b1d473",
   "metadata": {},
   "outputs": [
    {
     "name": "stdout",
     "output_type": "stream",
     "text": [
      "Hello\n"
     ]
    }
   ],
   "source": [
    "b = \"Hello, World!\"\n",
    "print(b[:5])"
   ]
  },
  {
   "cell_type": "markdown",
   "id": "e820c624-836f-4be1-b421-1db6a9d0cd42",
   "metadata": {},
   "source": [
    "Example 49"
   ]
  },
  {
   "cell_type": "code",
   "execution_count": 73,
   "id": "8468bf3b-f9ad-48f7-8a75-dcacaa004e8f",
   "metadata": {},
   "outputs": [
    {
     "name": "stdout",
     "output_type": "stream",
     "text": [
      "llo, World!\n"
     ]
    }
   ],
   "source": [
    "b = \"Hello, World!\"\n",
    "print(b[2:])"
   ]
  },
  {
   "cell_type": "markdown",
   "id": "dffa4117-2350-4696-a850-ee2573778ac0",
   "metadata": {},
   "source": [
    "Example 50"
   ]
  },
  {
   "cell_type": "code",
   "execution_count": 76,
   "id": "609cdc05-2663-4e31-9478-7bdde01681c7",
   "metadata": {},
   "outputs": [
    {
     "name": "stdout",
     "output_type": "stream",
     "text": [
      "orl\n"
     ]
    }
   ],
   "source": [
    "b = \"Hello, World!\"\n",
    "print(b[-5:-2])"
   ]
  },
  {
   "cell_type": "markdown",
   "id": "edf956c8-0d6c-4bbd-a2b4-dc79818c9378",
   "metadata": {},
   "source": [
    "Example 51"
   ]
  },
  {
   "cell_type": "code",
   "execution_count": 79,
   "id": "3cacb37a-9696-4b44-a8ee-6e15aa88505c",
   "metadata": {},
   "outputs": [
    {
     "name": "stdout",
     "output_type": "stream",
     "text": [
      "HELLO, WORLD!\n"
     ]
    }
   ],
   "source": [
    "a = \"Hello, World!\"\n",
    "print(a.upper())"
   ]
  },
  {
   "cell_type": "markdown",
   "id": "8ee4b0df-786b-4f8e-8094-b3d256331727",
   "metadata": {},
   "source": [
    "Example 52"
   ]
  },
  {
   "cell_type": "code",
   "execution_count": 82,
   "id": "fb623d83-e345-4fb8-8df8-7d13a4484e2c",
   "metadata": {},
   "outputs": [
    {
     "name": "stdout",
     "output_type": "stream",
     "text": [
      "hello, world!\n"
     ]
    }
   ],
   "source": [
    "a = \"Hello, World!\"\n",
    "print(a.lower())"
   ]
  },
  {
   "cell_type": "markdown",
   "id": "98be0d01-b167-4283-84a9-fca36468de19",
   "metadata": {},
   "source": [
    "Example 53"
   ]
  },
  {
   "cell_type": "code",
   "execution_count": 92,
   "id": "5cd7c038-a3dd-4619-bedc-ae0b6df37abd",
   "metadata": {},
   "outputs": [
    {
     "name": "stdout",
     "output_type": "stream",
     "text": [
      "Hello, World!\n"
     ]
    }
   ],
   "source": [
    "a = \" Hello, World! \"\n",
    "print(a.strip())"
   ]
  },
  {
   "cell_type": "markdown",
   "id": "2af974b9-e944-4db2-88a6-2a61f022f327",
   "metadata": {},
   "source": [
    "Example 54"
   ]
  },
  {
   "cell_type": "code",
   "execution_count": 96,
   "id": "51b1bf35-0603-4e47-8104-42f1a0de8400",
   "metadata": {},
   "outputs": [
    {
     "name": "stdout",
     "output_type": "stream",
     "text": [
      "Jello, World!\n"
     ]
    }
   ],
   "source": [
    "a = \"Hello, World!\"\n",
    "print(a.replace(\"H\", \"J\"))"
   ]
  },
  {
   "cell_type": "markdown",
   "id": "321b0f38-912a-4de0-9752-c73d8576fa1b",
   "metadata": {},
   "source": [
    "Example 55"
   ]
  },
  {
   "cell_type": "code",
   "execution_count": 101,
   "id": "e650b361-dd67-4666-9df2-21410ed27949",
   "metadata": {},
   "outputs": [
    {
     "name": "stdout",
     "output_type": "stream",
     "text": [
      "['Hello', ' World!']\n"
     ]
    }
   ],
   "source": [
    "a = \"Hello, World!\"\n",
    "b = a.split(\",\")\n",
    "print(b)"
   ]
  },
  {
   "cell_type": "markdown",
   "id": "6ec6de2b-c19f-4a83-a734-e8eae178418c",
   "metadata": {},
   "source": [
    "Example 56"
   ]
  },
  {
   "cell_type": "code",
   "execution_count": 104,
   "id": "1d73fa98-679e-419a-a620-14be67596394",
   "metadata": {},
   "outputs": [
    {
     "name": "stdout",
     "output_type": "stream",
     "text": [
      "HelloWorld\n"
     ]
    }
   ],
   "source": [
    "a = \"Hello\"\n",
    "b = \"World\"\n",
    "c = a + b\n",
    "print(c)"
   ]
  },
  {
   "cell_type": "markdown",
   "id": "480e72d6-f7cd-4234-bac3-088185a525e3",
   "metadata": {},
   "source": [
    "Example 57"
   ]
  },
  {
   "cell_type": "code",
   "execution_count": 107,
   "id": "c7c8b17b-92ba-4194-b0cd-feddd05baa7e",
   "metadata": {},
   "outputs": [
    {
     "name": "stdout",
     "output_type": "stream",
     "text": [
      "Hello World\n"
     ]
    }
   ],
   "source": [
    "a = \"Hello\"\n",
    "b = \"World\"\n",
    "c = a + \" \" + b\n",
    "print(c)"
   ]
  },
  {
   "cell_type": "raw",
   "id": "7291ed2a-bb8c-4a7f-8693-b7e4c8c3e790",
   "metadata": {},
   "source": [
    "Example 58 with error"
   ]
  },
  {
   "cell_type": "code",
   "execution_count": 111,
   "id": "eefe3290-28e8-4b5d-af8b-5fe3c15c11a4",
   "metadata": {},
   "outputs": [
    {
     "ename": "TypeError",
     "evalue": "can only concatenate str (not \"int\") to str",
     "output_type": "error",
     "traceback": [
      "\u001b[1;31m---------------------------------------------------------------------------\u001b[0m",
      "\u001b[1;31mTypeError\u001b[0m                                 Traceback (most recent call last)",
      "Cell \u001b[1;32mIn[111], line 2\u001b[0m\n\u001b[0;32m      1\u001b[0m age \u001b[38;5;241m=\u001b[39m \u001b[38;5;241m36\u001b[39m\n\u001b[1;32m----> 2\u001b[0m txt \u001b[38;5;241m=\u001b[39m \u001b[38;5;124m\"\u001b[39m\u001b[38;5;124mMy name is John, I am \u001b[39m\u001b[38;5;124m\"\u001b[39m \u001b[38;5;241m+\u001b[39m age\n\u001b[0;32m      3\u001b[0m \u001b[38;5;28mprint\u001b[39m(txt)\n",
      "\u001b[1;31mTypeError\u001b[0m: can only concatenate str (not \"int\") to str"
     ]
    }
   ],
   "source": [
    "age = 36\n",
    "txt = \"My name is John, I am \" + age\n",
    "print(txt) "
   ]
  },
  {
   "cell_type": "markdown",
   "id": "43764382-69f2-412a-ae88-80da71c3205f",
   "metadata": {},
   "source": [
    "Example 59"
   ]
  },
  {
   "cell_type": "code",
   "execution_count": 114,
   "id": "818bc16c-d886-4c97-8832-ffd15e2b751d",
   "metadata": {},
   "outputs": [
    {
     "name": "stdout",
     "output_type": "stream",
     "text": [
      "My name is John, I am 36\n"
     ]
    }
   ],
   "source": [
    "age = 36\n",
    "txt = f\"My name is John, I am {age}\"\n",
    "print(txt)"
   ]
  },
  {
   "cell_type": "markdown",
   "id": "1cd82d07-396c-4d9a-9ed4-4c8935505a1f",
   "metadata": {},
   "source": [
    "Example 60"
   ]
  },
  {
   "cell_type": "code",
   "execution_count": 120,
   "id": "1e92aa30-0504-4695-b802-efd8a7856c35",
   "metadata": {},
   "outputs": [
    {
     "name": "stdout",
     "output_type": "stream",
     "text": [
      "The price is 59 dollars\n"
     ]
    }
   ],
   "source": [
    "price = 59\n",
    "txt = f\"The price is {price} dollars\"\n",
    "print(txt)"
   ]
  },
  {
   "cell_type": "markdown",
   "id": "62a20743-47f4-4831-b5e3-28713bf569a5",
   "metadata": {},
   "source": [
    "Example 61"
   ]
  },
  {
   "cell_type": "code",
   "execution_count": 123,
   "id": "f63164f0-1cf5-4f4a-bb9f-bb6b0176d258",
   "metadata": {},
   "outputs": [
    {
     "name": "stdout",
     "output_type": "stream",
     "text": [
      "The price is 59.00 dollars\n"
     ]
    }
   ],
   "source": [
    "price = 59\n",
    "txt = f\"The price is {price:.2f} dollars\"\n",
    "print(txt)"
   ]
  },
  {
   "cell_type": "markdown",
   "id": "b8253f22-2e3c-4188-b1e7-1310b5021302",
   "metadata": {},
   "source": [
    "Example 62"
   ]
  },
  {
   "cell_type": "code",
   "execution_count": 127,
   "id": "f9338415-e942-417c-b452-24af9ee3b4eb",
   "metadata": {},
   "outputs": [
    {
     "name": "stdout",
     "output_type": "stream",
     "text": [
      "The price is 1180 dollars\n"
     ]
    }
   ],
   "source": [
    "txt = f\"The price is {20 * 59} dollars\"\n",
    "print(txt)"
   ]
  },
  {
   "cell_type": "markdown",
   "id": "ec3ef4ea-f219-46a6-b698-aa43ef4a19e5",
   "metadata": {},
   "source": [
    "Example 63 with error"
   ]
  },
  {
   "cell_type": "code",
   "execution_count": 130,
   "id": "267711a7-5298-42df-999c-1d5966eaf0f5",
   "metadata": {},
   "outputs": [
    {
     "ename": "SyntaxError",
     "evalue": "invalid syntax (7934146.py, line 1)",
     "output_type": "error",
     "traceback": [
      "\u001b[1;36m  Cell \u001b[1;32mIn[130], line 1\u001b[1;36m\u001b[0m\n\u001b[1;33m    txt = \"We are the so-called \"Vikings\" from the north.\"\u001b[0m\n\u001b[1;37m                                 ^\u001b[0m\n\u001b[1;31mSyntaxError\u001b[0m\u001b[1;31m:\u001b[0m invalid syntax\n"
     ]
    }
   ],
   "source": [
    "txt = \"We are the so-called \"Vikings\" from the north.\""
   ]
  },
  {
   "cell_type": "markdown",
   "id": "746def49-ef9c-420a-838d-abd9dae22a2c",
   "metadata": {},
   "source": [
    "Example 64"
   ]
  },
  {
   "cell_type": "code",
   "execution_count": 133,
   "id": "49a5123d-8561-4eaa-809b-c33ef535b2f8",
   "metadata": {},
   "outputs": [
    {
     "name": "stdout",
     "output_type": "stream",
     "text": [
      "We are the so-called \"Vikings\" from the north.\n"
     ]
    }
   ],
   "source": [
    "txt = \"We are the so-called \\\"Vikings\\\" from the north.\"\n",
    "print(txt) "
   ]
  },
  {
   "cell_type": "markdown",
   "id": "ecfb1724-883c-4c90-9a72-9d68159f7e1a",
   "metadata": {},
   "source": [
    "Example 65"
   ]
  },
  {
   "cell_type": "code",
   "execution_count": 152,
   "id": "06c62345-94c7-4cfa-8dba-c00a42df8425",
   "metadata": {},
   "outputs": [
    {
     "name": "stdout",
     "output_type": "stream",
     "text": [
      "It's alright.\n",
      "This will insert one \\ (backslash).\n",
      "Hello\n",
      "World!\n",
      "World!\n",
      "Hello\tWorld!\n",
      "HelloWorld!\n",
      "Hello\n",
      "Hello\n"
     ]
    }
   ],
   "source": [
    "#1\n",
    "txt = 'It\\'s alright.'\n",
    "print(txt)\n",
    "#2\n",
    "txt = \"This will insert one \\\\ (backslash).\"\n",
    "print(txt) \n",
    "#3\n",
    "txt = \"Hello\\nWorld!\"\n",
    "print(txt) \n",
    "#4\n",
    "txt = \"Hello\\rWorld!\"\n",
    "print(txt) \n",
    "#5\n",
    "txt = \"Hello\\tWorld!\"\n",
    "print(txt) \n",
    "#6\n",
    "txt = \"Hello \\bWorld!\"\n",
    "print(txt) \n",
    "#7\n",
    "txt = \"\\110\\145\\154\\154\\157\"\n",
    "print(txt) \n",
    "#8\n",
    "txt = \"\\x48\\x65\\x6c\\x6c\\x6f\"\n",
    "print(txt) "
   ]
  },
  {
   "cell_type": "markdown",
   "id": "977cf5e8-6a78-4c6e-a52e-1d0427a4ba5a",
   "metadata": {},
   "source": [
    "Example 66 Methods "
   ]
  },
  {
   "cell_type": "code",
   "execution_count": 165,
   "id": "5ec9ec0d-f89e-44af-a99f-40bfc78ba7a3",
   "metadata": {},
   "outputs": [
    {
     "name": "stdout",
     "output_type": "stream",
     "text": [
      "Hello, and welcome to my world.\n"
     ]
    }
   ],
   "source": [
    "#1\n",
    "txt = \"hello, and welcome to my world.\"\n",
    "x = txt.capitalize()\n",
    "print (x)"
   ]
  },
  {
   "cell_type": "code",
   "execution_count": 157,
   "id": "08f37c88-1834-49bf-a881-239649d13a9a",
   "metadata": {},
   "outputs": [
    {
     "name": "stdout",
     "output_type": "stream",
     "text": [
      "hello, and welcome to my world!\n"
     ]
    }
   ],
   "source": [
    "#2\n",
    "txt = \"Hello, And Welcome To My World!\"\n",
    "x = txt.casefold()\n",
    "print(x)"
   ]
  },
  {
   "cell_type": "code",
   "execution_count": 159,
   "id": "62a560ff-9fcf-4bd3-a0fc-8e3c8d357f81",
   "metadata": {},
   "outputs": [
    {
     "name": "stdout",
     "output_type": "stream",
     "text": [
      "       banana       \n"
     ]
    }
   ],
   "source": [
    "#3\n",
    "txt = \"banana\"\n",
    "x = txt.center(20)\n",
    "print(x)"
   ]
  },
  {
   "cell_type": "code",
   "execution_count": 161,
   "id": "6c3d60aa-86e4-4ab0-a196-795cce2f0963",
   "metadata": {},
   "outputs": [
    {
     "name": "stdout",
     "output_type": "stream",
     "text": [
      "2\n"
     ]
    }
   ],
   "source": [
    "#4\n",
    "txt = \"I love apples, apple are my favorite fruit\"\n",
    "x = txt.count(\"apple\")\n",
    "print(x)"
   ]
  },
  {
   "cell_type": "code",
   "execution_count": 163,
   "id": "b384f15c-6416-44ea-832d-8c4614c7db83",
   "metadata": {},
   "outputs": [
    {
     "name": "stdout",
     "output_type": "stream",
     "text": [
      "b'My name is St\\xc3\\xa5le'\n"
     ]
    }
   ],
   "source": [
    "#5\n",
    "txt = \"My name is Ståle\"\n",
    "x = txt.encode()\n",
    "print(x)"
   ]
  },
  {
   "cell_type": "code",
   "execution_count": 167,
   "id": "dc7baaf8-1106-43ba-b1fa-5d625af89f73",
   "metadata": {},
   "outputs": [
    {
     "name": "stdout",
     "output_type": "stream",
     "text": [
      "True\n"
     ]
    }
   ],
   "source": [
    "#6\n",
    "txt = \"Hello, welcome to my world.\"\n",
    "x = txt.endswith(\".\")\n",
    "print(x)"
   ]
  },
  {
   "cell_type": "code",
   "execution_count": 169,
   "id": "5903505c-2fee-42ce-8cc9-df03b643cd50",
   "metadata": {},
   "outputs": [
    {
     "name": "stdout",
     "output_type": "stream",
     "text": [
      "H e l l o\n"
     ]
    }
   ],
   "source": [
    "#7\n",
    "txt = \"H\\te\\tl\\tl\\to\"\n",
    "x =  txt.expandtabs(2)\n",
    "print(x)"
   ]
  },
  {
   "cell_type": "code",
   "execution_count": 171,
   "id": "a93fb0ca-1161-46ed-a3e5-41c10d467e91",
   "metadata": {},
   "outputs": [
    {
     "name": "stdout",
     "output_type": "stream",
     "text": [
      "7\n"
     ]
    }
   ],
   "source": [
    "#8\n",
    "txt = \"Hello, welcome to my world.\"\n",
    "x = txt.find(\"welcome\")\n",
    "print(x)"
   ]
  },
  {
   "cell_type": "code",
   "execution_count": 173,
   "id": "7848b637-e8e0-40ad-8aa3-767c092c36a2",
   "metadata": {},
   "outputs": [
    {
     "name": "stdout",
     "output_type": "stream",
     "text": [
      "For only 49.00 dollars!\n"
     ]
    }
   ],
   "source": [
    "#9\n",
    "txt = \"For only {price:.2f} dollars!\"\n",
    "print(txt.format(price = 49))"
   ]
  },
  {
   "cell_type": "code",
   "execution_count": 175,
   "id": "e7a9b651-9ace-432c-9996-d5837d9cb641",
   "metadata": {},
   "outputs": [
    {
     "name": "stdout",
     "output_type": "stream",
     "text": [
      "7\n"
     ]
    }
   ],
   "source": [
    "#10\n",
    "txt = \"Hello, welcome to my world.\"\n",
    "x = txt.index(\"welcome\")\n",
    "print(x)"
   ]
  },
  {
   "cell_type": "code",
   "execution_count": 177,
   "id": "bd2c30b5-9895-4c21-88f6-7160359fe1f0",
   "metadata": {},
   "outputs": [
    {
     "name": "stdout",
     "output_type": "stream",
     "text": [
      "True\n"
     ]
    }
   ],
   "source": [
    "#11\n",
    "txt = \"Company12\"\n",
    "x = txt.isalnum()\n",
    "print(x)"
   ]
  },
  {
   "cell_type": "code",
   "execution_count": 179,
   "id": "e7e0b61c-9a58-410c-8bb4-256cd5d01755",
   "metadata": {},
   "outputs": [
    {
     "name": "stdout",
     "output_type": "stream",
     "text": [
      "True\n"
     ]
    }
   ],
   "source": [
    "#12\n",
    "txt = \"CompanyX\"\n",
    "x = txt.isalpha()\n",
    "print(x)"
   ]
  },
  {
   "cell_type": "code",
   "execution_count": 181,
   "id": "5f66caeb-7fdf-4e9b-b962-87edd7e936be",
   "metadata": {},
   "outputs": [
    {
     "name": "stdout",
     "output_type": "stream",
     "text": [
      "True\n"
     ]
    }
   ],
   "source": [
    "#13\n",
    "txt = \"Company123\"\n",
    "x = txt.isascii()\n",
    "print(x)"
   ]
  },
  {
   "cell_type": "code",
   "execution_count": 183,
   "id": "97859790-39d0-4922-b13e-063efa60e078",
   "metadata": {},
   "outputs": [
    {
     "name": "stdout",
     "output_type": "stream",
     "text": [
      "True\n"
     ]
    }
   ],
   "source": [
    "#14\n",
    "txt = \"1234\"\n",
    "x = txt.isdecimal()\n",
    "print(x)"
   ]
  },
  {
   "cell_type": "code",
   "execution_count": 185,
   "id": "8da771cb-ddf7-4567-8919-f9aa8973f01b",
   "metadata": {},
   "outputs": [
    {
     "name": "stdout",
     "output_type": "stream",
     "text": [
      "True\n"
     ]
    }
   ],
   "source": [
    "#15\n",
    "txt = \"50800\"\n",
    "x = txt.isdigit()\n",
    "print(x)"
   ]
  },
  {
   "cell_type": "code",
   "execution_count": 187,
   "id": "0c5d33ea-c95f-481e-bd39-0503547109ad",
   "metadata": {},
   "outputs": [
    {
     "name": "stdout",
     "output_type": "stream",
     "text": [
      "True\n"
     ]
    }
   ],
   "source": [
    "#16\n",
    "txt = \"Demo\"\n",
    "x = txt.isidentifier()\n",
    "print(x)"
   ]
  },
  {
   "cell_type": "code",
   "execution_count": 189,
   "id": "86770ab0-427c-40d1-8f33-45c1ce834c60",
   "metadata": {},
   "outputs": [
    {
     "name": "stdout",
     "output_type": "stream",
     "text": [
      "True\n"
     ]
    }
   ],
   "source": [
    "#17\n",
    "txt = \"hello world!\"\n",
    "x = txt.islower()\n",
    "print(x)"
   ]
  },
  {
   "cell_type": "code",
   "execution_count": 191,
   "id": "5c913a9e-95de-4666-9558-45058405a3b9",
   "metadata": {},
   "outputs": [
    {
     "name": "stdout",
     "output_type": "stream",
     "text": [
      "True\n"
     ]
    }
   ],
   "source": [
    "#18\n",
    "txt = \"565543\"\n",
    "x = txt.isnumeric()\n",
    "print(x)"
   ]
  },
  {
   "cell_type": "code",
   "execution_count": 193,
   "id": "58f09f3d-4668-4cd0-b5cd-7f4813f2fde8",
   "metadata": {},
   "outputs": [
    {
     "name": "stdout",
     "output_type": "stream",
     "text": [
      "True\n"
     ]
    }
   ],
   "source": [
    "#19\n",
    "txt = \"Hello! Are you #1?\"\n",
    "x = txt.isprintable()\n",
    "print(x)"
   ]
  },
  {
   "cell_type": "code",
   "execution_count": 195,
   "id": "f0951093-3c4c-40db-8792-dc5086f3ab04",
   "metadata": {},
   "outputs": [
    {
     "name": "stdout",
     "output_type": "stream",
     "text": [
      "True\n"
     ]
    }
   ],
   "source": [
    "#20\n",
    "txt = \"   \"\n",
    "x = txt.isspace()\n",
    "print(x)"
   ]
  },
  {
   "cell_type": "code",
   "execution_count": 197,
   "id": "c7c9a786-d5b9-48b6-ac16-305f2c9879cd",
   "metadata": {},
   "outputs": [
    {
     "name": "stdout",
     "output_type": "stream",
     "text": [
      "True\n"
     ]
    }
   ],
   "source": [
    "#21\n",
    "txt = \"Hello, And Welcome To My World!\"\n",
    "x = txt.istitle()\n",
    "print(x)"
   ]
  },
  {
   "cell_type": "code",
   "execution_count": 199,
   "id": "32d1259f-6088-460a-ab57-54b81e31171a",
   "metadata": {},
   "outputs": [
    {
     "name": "stdout",
     "output_type": "stream",
     "text": [
      "True\n"
     ]
    }
   ],
   "source": [
    "#22\n",
    "txt = \"THIS IS NOW!\"\n",
    "x = txt.isupper()\n",
    "print(x)"
   ]
  },
  {
   "cell_type": "code",
   "execution_count": 201,
   "id": "66e77d60-3522-4686-8549-8e659170028a",
   "metadata": {},
   "outputs": [
    {
     "name": "stdout",
     "output_type": "stream",
     "text": [
      "John#Peter#Vicky\n"
     ]
    }
   ],
   "source": [
    "#23\n",
    "myTuple = (\"John\", \"Peter\", \"Vicky\")\n",
    "x = \"#\".join(myTuple)\n",
    "print(x)"
   ]
  },
  {
   "cell_type": "code",
   "execution_count": 203,
   "id": "4ae51320-fa72-4ed7-bb89-2a5c128ca673",
   "metadata": {},
   "outputs": [
    {
     "name": "stdout",
     "output_type": "stream",
     "text": [
      "banana               is my favorite fruit.\n"
     ]
    }
   ],
   "source": [
    "#24\n",
    "txt = \"banana\"\n",
    "x = txt.ljust(20)\n",
    "print(x, \"is my favorite fruit.\")"
   ]
  },
  {
   "cell_type": "code",
   "execution_count": 205,
   "id": "dcffa0f0-31b9-445f-bc4e-7181245f504b",
   "metadata": {},
   "outputs": [
    {
     "name": "stdout",
     "output_type": "stream",
     "text": [
      "hello my friends\n"
     ]
    }
   ],
   "source": [
    "#25\n",
    "txt = \"Hello my FRIENDS\"\n",
    "x = txt.lower()\n",
    "print(x)"
   ]
  },
  {
   "cell_type": "code",
   "execution_count": 207,
   "id": "4a9e33cf-3424-46d4-baa7-5fac38c77055",
   "metadata": {},
   "outputs": [
    {
     "name": "stdout",
     "output_type": "stream",
     "text": [
      "of all fruits banana      is my favorite\n"
     ]
    }
   ],
   "source": [
    "#26\n",
    "txt = \"     banana     \"\n",
    "x = txt.lstrip()\n",
    "print(\"of all fruits\", x, \"is my favorite\")"
   ]
  },
  {
   "cell_type": "code",
   "execution_count": 209,
   "id": "848473e5-afa8-435c-9cb4-e9da4a9010d5",
   "metadata": {},
   "outputs": [
    {
     "name": "stdout",
     "output_type": "stream",
     "text": [
      "Hello Pam!\n"
     ]
    }
   ],
   "source": [
    "#27\n",
    "txt = \"Hello Sam!\"\n",
    "mytable = str.maketrans(\"S\", \"P\")\n",
    "print(txt.translate(mytable))"
   ]
  },
  {
   "cell_type": "code",
   "execution_count": 211,
   "id": "df9af0ec-fdb4-488c-84ef-cefb8220941a",
   "metadata": {},
   "outputs": [
    {
     "name": "stdout",
     "output_type": "stream",
     "text": [
      "('I could eat ', 'bananas', ' all day')\n"
     ]
    }
   ],
   "source": [
    "#28\n",
    "txt = \"I could eat bananas all day\"\n",
    "x = txt.partition(\"bananas\")\n",
    "print(x)"
   ]
  },
  {
   "cell_type": "code",
   "execution_count": 213,
   "id": "115165ff-618c-4e45-ba50-6ff73462fd19",
   "metadata": {},
   "outputs": [
    {
     "name": "stdout",
     "output_type": "stream",
     "text": [
      "I like apples\n"
     ]
    }
   ],
   "source": [
    "#29\n",
    "txt = \"I like bananas\"\n",
    "x = txt.replace(\"bananas\", \"apples\")\n",
    "print(x)"
   ]
  },
  {
   "cell_type": "code",
   "execution_count": 215,
   "id": "d6c73ddd-123d-47b1-a44d-57110f56f608",
   "metadata": {},
   "outputs": [
    {
     "name": "stdout",
     "output_type": "stream",
     "text": [
      "['welcome', 'to', 'the', 'jungle']\n"
     ]
    }
   ],
   "source": [
    "#30\n",
    "txt = \"welcome to the jungle\"\n",
    "x = txt.split()\n",
    "print(x)"
   ]
  },
  {
   "cell_type": "code",
   "execution_count": 217,
   "id": "6e331039-850b-414c-82f5-6fdb27121db9",
   "metadata": {},
   "outputs": [
    {
     "name": "stdout",
     "output_type": "stream",
     "text": [
      "['Thank you for the music', 'Welcome to the jungle']\n"
     ]
    }
   ],
   "source": [
    "#31\n",
    "txt = \"Thank you for the music\\nWelcome to the jungle\"\n",
    "x = txt.splitlines()\n",
    "print(x)"
   ]
  },
  {
   "cell_type": "code",
   "execution_count": 221,
   "id": "eaa8c072-aaad-49bf-b5e3-3537387c3198",
   "metadata": {},
   "outputs": [
    {
     "name": "stdout",
     "output_type": "stream",
     "text": [
      "True\n"
     ]
    }
   ],
   "source": [
    "#32\n",
    "txt = \"Hello, welcome to my world.\"\n",
    "x = txt.startswith(\"Hello\")\n",
    "print(x)"
   ]
  },
  {
   "cell_type": "code",
   "execution_count": 223,
   "id": "f639a2f3-8d4a-45ee-872e-a8921894f0b8",
   "metadata": {},
   "outputs": [
    {
     "name": "stdout",
     "output_type": "stream",
     "text": [
      "of all fruits banana is my favorite\n"
     ]
    }
   ],
   "source": [
    "#33\n",
    "txt = \"     banana     \"\n",
    "x = txt.strip()\n",
    "print(\"of all fruits\", x, \"is my favorite\")"
   ]
  },
  {
   "cell_type": "code",
   "execution_count": 225,
   "id": "7431e1f9-2da7-4718-989b-a73dc7c052e5",
   "metadata": {},
   "outputs": [
    {
     "name": "stdout",
     "output_type": "stream",
     "text": [
      "hELLO mY nAME iS peter\n"
     ]
    }
   ],
   "source": [
    "#34\n",
    "txt = \"Hello My Name Is PETER\"\n",
    "x = txt.swapcase()\n",
    "print(x)"
   ]
  },
  {
   "cell_type": "code",
   "execution_count": 227,
   "id": "35c90d14-988f-4bc5-be80-948d57a6f97c",
   "metadata": {},
   "outputs": [
    {
     "name": "stdout",
     "output_type": "stream",
     "text": [
      "Welcome To My World\n"
     ]
    }
   ],
   "source": [
    "#35\n",
    "txt = \"Welcome to my world\"\n",
    "x = txt.title()\n",
    "print(x)"
   ]
  },
  {
   "cell_type": "code",
   "execution_count": 229,
   "id": "27bf5ad2-1283-4ad1-bfcd-fc8fa32111c4",
   "metadata": {},
   "outputs": [
    {
     "name": "stdout",
     "output_type": "stream",
     "text": [
      "Hello Pam!\n"
     ]
    }
   ],
   "source": [
    "#36\n",
    "mydict = {83:  80}\n",
    "txt = \"Hello Sam!\"\n",
    "print(txt.translate(mydict))"
   ]
  },
  {
   "cell_type": "code",
   "execution_count": 231,
   "id": "6e272af9-3eaf-4b5f-8d1e-e1225130f8d3",
   "metadata": {},
   "outputs": [
    {
     "name": "stdout",
     "output_type": "stream",
     "text": [
      "0000000050\n"
     ]
    }
   ],
   "source": [
    "#37\n",
    "txt = \"50\"\n",
    "x = txt.zfill(10)\n",
    "print(x)"
   ]
  },
  {
   "cell_type": "code",
   "execution_count": null,
   "id": "ae3e8c99-aedd-4151-b466-9f5688398196",
   "metadata": {},
   "outputs": [],
   "source": []
  }
 ],
 "metadata": {
  "kernelspec": {
   "display_name": "Python [conda env:base] *",
   "language": "python",
   "name": "conda-base-py"
  },
  "language_info": {
   "codemirror_mode": {
    "name": "ipython",
    "version": 3
   },
   "file_extension": ".py",
   "mimetype": "text/x-python",
   "name": "python",
   "nbconvert_exporter": "python",
   "pygments_lexer": "ipython3",
   "version": "3.12.7"
  }
 },
 "nbformat": 4,
 "nbformat_minor": 5
}
