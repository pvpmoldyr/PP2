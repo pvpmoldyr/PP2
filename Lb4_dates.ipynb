{
 "cells": [
  {
   "cell_type": "markdown",
   "id": "d59f79de-af5b-4c67-a6be-23d68743ac82",
   "metadata": {},
   "source": [
    "1) Write a Python program to subtract five days from current date."
   ]
  },
  {
   "cell_type": "code",
   "execution_count": 70,
   "id": "91ed58c2-6bfe-498b-946b-677b4a5b0756",
   "metadata": {},
   "outputs": [
    {
     "name": "stdout",
     "output_type": "stream",
     "text": [
      "Current Date: 2025-02-13 12:15:01.462970\n",
      "Date after subtracting 5 days: 2025-02-08 12:15:01.462970\n"
     ]
    }
   ],
   "source": [
    "from datetime import datetime, timedelta\n",
    "current_date=datetime.today()\n",
    "after_date=current_date - timedelta(days=5)\n",
    "print(\"Current Date:\",current_date)\n",
    "print(\"Date after subtracting 5 days:\", after_date)"
   ]
  },
  {
   "cell_type": "markdown",
   "id": "3ac55a84-b3e3-4edb-ada8-590da2d51f5a",
   "metadata": {},
   "source": [
    "2) Write a Python program to print yesterday, today, tomorrow."
   ]
  },
  {
   "cell_type": "code",
   "execution_count": 76,
   "id": "3663a584-33ef-4ee2-a109-9c6347b847cb",
   "metadata": {},
   "outputs": [
    {
     "name": "stdout",
     "output_type": "stream",
     "text": [
      "2025-02-12 12:16:11.103838\n",
      "2025-02-13 12:16:11.103838\n",
      "2025-02-14 12:16:11.103838\n"
     ]
    }
   ],
   "source": [
    "from datetime import datetime, timedelta\n",
    "current_date=datetime.today()\n",
    "yesterday_date=current_date - timedelta(days=1)\n",
    "after_date=current_date + timedelta(days=1)\n",
    "print(yesterday_date)\n",
    "print(current_date)\n",
    "print(after_date)"
   ]
  },
  {
   "cell_type": "markdown",
   "id": "8f8d09c7-5998-4ff4-83d3-35a44a3f534a",
   "metadata": {},
   "source": [
    "3) Write a Python program to drop microseconds from datetime."
   ]
  },
  {
   "cell_type": "code",
   "execution_count": 33,
   "id": "2c106dc0-c74c-48c5-92aa-32231ca5a04f",
   "metadata": {},
   "outputs": [
    {
     "name": "stdout",
     "output_type": "stream",
     "text": [
      "2025-02-13\n"
     ]
    }
   ],
   "source": [
    "import datetime\n",
    "x = datetime.datetime.now()\n",
    "print(x.strftime(\"%Y-%m-%d\"))"
   ]
  },
  {
   "cell_type": "markdown",
   "id": "ec4f3db9-19b3-4a12-97f6-00cb10798ebc",
   "metadata": {},
   "source": [
    "4) Write a Python program to calculate two date difference in seconds."
   ]
  },
  {
   "cell_type": "code",
   "execution_count": 64,
   "id": "3ad7667e-2e98-47c7-874a-0fe59963e0e5",
   "metadata": {},
   "outputs": [
    {
     "name": "stdout",
     "output_type": "stream",
     "text": [
      "Difference in seconds: 86400.0\n"
     ]
    }
   ],
   "source": [
    "from datetime import datetime\n",
    "current_date=datetime.today()\n",
    "after_date=current_date - timedelta(days=1)\n",
    "difference = (current_date - after_date).total_seconds()\n",
    "print(\"Difference in seconds:\", difference)"
   ]
  },
  {
   "cell_type": "code",
   "execution_count": null,
   "id": "6d8e7849-d153-4f72-be59-547b9d629da6",
   "metadata": {},
   "outputs": [],
   "source": []
  }
 ],
 "metadata": {
  "kernelspec": {
   "display_name": "Python [conda env:base] *",
   "language": "python",
   "name": "conda-base-py"
  },
  "language_info": {
   "codemirror_mode": {
    "name": "ipython",
    "version": 3
   },
   "file_extension": ".py",
   "mimetype": "text/x-python",
   "name": "python",
   "nbconvert_exporter": "python",
   "pygments_lexer": "ipython3",
   "version": "3.12.7"
  }
 },
 "nbformat": 4,
 "nbformat_minor": 5
}
