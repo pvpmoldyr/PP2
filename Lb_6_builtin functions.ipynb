{
 "cells": [
  {
   "cell_type": "markdown",
   "id": "3414335b-84e8-4e36-910f-f1941b0e4c8c",
   "metadata": {},
   "source": [
    "1) Write a Python program with builtin function to multiply all the numbers in a list"
   ]
  },
  {
   "cell_type": "code",
   "execution_count": 13,
   "id": "abc2e16a-9ce1-41f9-a4df-faf144c3c2bb",
   "metadata": {},
   "outputs": [
    {
     "name": "stdin",
     "output_type": "stream",
     "text": [
      "Enter numbers separated by spaces:  12 5 3\n"
     ]
    },
    {
     "name": "stdout",
     "output_type": "stream",
     "text": [
      "Product of the list: 180\n"
     ]
    }
   ],
   "source": [
    "def multiply_func(numbers):\n",
    "    total = 1\n",
    "    for x in numbers:\n",
    "        total *= x\n",
    "    return total\n",
    "nums = list(map(int, input(\"Enter numbers separated by spaces: \").split()))\n",
    "result = multiply_func(nums)\n",
    "print(\"Product of the list:\", result)"
   ]
  },
  {
   "cell_type": "markdown",
   "id": "3a16c72e-fb71-41f7-b2cf-42263e5e189e",
   "metadata": {},
   "source": [
    "2) Write a Python program with builtin function that accepts a string and calculate the number of upper case letters and lower case letters"
   ]
  },
  {
   "cell_type": "code",
   "execution_count": 19,
   "id": "26eff994-eb67-460f-ae18-9f95a1515143",
   "metadata": {},
   "outputs": [
    {
     "name": "stdin",
     "output_type": "stream",
     "text": [
      "Enter a sentence:  Calculate numbers\n"
     ]
    },
    {
     "name": "stdout",
     "output_type": "stream",
     "text": [
      "Uppercase letters: 1\n",
      "Lowercase letters: 15\n"
     ]
    }
   ],
   "source": [
    "def count_letters(s):\n",
    "    upper_count = 0  \n",
    "    lower_count = 0  \n",
    "    \n",
    "    for char in s:\n",
    "        if char.isupper():  \n",
    "            upper_count += 1\n",
    "        elif char.islower(): \n",
    "            lower_count += 1\n",
    "    return upper_count, lower_count  \n",
    "\n",
    "sentence = input(\"Enter a sentence: \")\n",
    "upper, lower = count_letters(sentence)\n",
    "print(\"Uppercase letters:\", upper)\n",
    "print(\"Lowercase letters:\", lower)"
   ]
  },
  {
   "cell_type": "markdown",
   "id": "f6e46a0c-a5a5-413c-8ece-528ac23ae4af",
   "metadata": {},
   "source": [
    "3) Write a Python program with builtin function that checks whether a passed string is palindrome or not."
   ]
  },
  {
   "cell_type": "code",
   "execution_count": 22,
   "id": "0b91f497-34a8-4c56-be41-315b729327e4",
   "metadata": {},
   "outputs": [
    {
     "name": "stdin",
     "output_type": "stream",
     "text": [
      "Enter a word or phrase:  AHAaha\n"
     ]
    },
    {
     "name": "stdout",
     "output_type": "stream",
     "text": [
      "Palindrome\n"
     ]
    }
   ],
   "source": [
    "def is_palindrome(s):\n",
    "    s = s.replace(\" \", \"\").lower() \n",
    "    return s == s[::-1] \n",
    "    \n",
    "user_input = input(\"Enter a word or phrase: \")  \n",
    "if is_palindrome(user_input):\n",
    "    print(\"Palindrome\")\n",
    "else:\n",
    "    print(\"Not a palindrome\")"
   ]
  },
  {
   "cell_type": "markdown",
   "id": "f1cd3e3b-cd60-4046-8dd1-b7ceaa03f5db",
   "metadata": {},
   "source": [
    "4) Write a Python program that invoke square root function after specific milliseconds."
   ]
  },
  {
   "cell_type": "code",
   "execution_count": 29,
   "id": "04e20070-506d-4be9-98ab-add226270a3b",
   "metadata": {},
   "outputs": [
    {
     "name": "stdin",
     "output_type": "stream",
     "text": [
      " 25100\n",
      " 2123\n"
     ]
    },
    {
     "name": "stdout",
     "output_type": "stream",
     "text": [
      "Square root of 25100 after 2123 milliseconds is 158.42979517754858\n"
     ]
    }
   ],
   "source": [
    "import time\n",
    "import math\n",
    "\n",
    "num = int(input())\n",
    "delay = int(input())\n",
    "time.sleep(delay / 1000)  \n",
    "result = math.sqrt(num)\n",
    "print(f\"Square root of {num} after {delay} milliseconds is {result}\")"
   ]
  },
  {
   "cell_type": "markdown",
   "id": "a79743fe-7f52-44c7-92cf-0c3b113c9728",
   "metadata": {},
   "source": [
    "5) Write a Python program with builtin function that returns True if all elements of the tuple are true."
   ]
  },
  {
   "cell_type": "code",
   "execution_count": 34,
   "id": "66ff9bad-2212-4d66-b8e6-dc2ba9dafd7f",
   "metadata": {},
   "outputs": [
    {
     "name": "stdout",
     "output_type": "stream",
     "text": [
      "True\n",
      "False\n"
     ]
    }
   ],
   "source": [
    "def all_true(t):\n",
    "    return all(t)\n",
    "\n",
    "tuple1 = (True, 1, \"Hello\", [5])\n",
    "tuple2 = (True, 0, \"Hello\", [5])\n",
    "\n",
    "print(all_true(tuple1))  \n",
    "print(all_true(tuple2))\n"
   ]
  },
  {
   "cell_type": "code",
   "execution_count": null,
   "id": "1ca5ff97-c24d-46f3-a5d4-468d37af882c",
   "metadata": {},
   "outputs": [],
   "source": []
  }
 ],
 "metadata": {
  "kernelspec": {
   "display_name": "Python [conda env:base] *",
   "language": "python",
   "name": "conda-base-py"
  },
  "language_info": {
   "codemirror_mode": {
    "name": "ipython",
    "version": 3
   },
   "file_extension": ".py",
   "mimetype": "text/x-python",
   "name": "python",
   "nbconvert_exporter": "python",
   "pygments_lexer": "ipython3",
   "version": "3.12.7"
  }
 },
 "nbformat": 4,
 "nbformat_minor": 5
}
