{
 "cells": [
  {
   "cell_type": "markdown",
   "id": "cf110154-8a63-48c5-a3bf-a2f83906cc8a",
   "metadata": {},
   "source": [
    "Functions 1"
   ]
  },
  {
   "cell_type": "markdown",
   "id": "587fab01-3304-489f-894e-264e4c38ca19",
   "metadata": {},
   "source": [
    "1) A recipe you are reading states how many grams you need for the ingredient. Unfortunately, your store only sells items in ounces. Create a function to convert grams to ounces. ounces = 28.3495231 * grams(I think we have a mistake here, because for converting we need divide grams to this number)"
   ]
  },
  {
   "cell_type": "code",
   "execution_count": 11,
   "id": "f0e38249-412a-49f4-b15c-524465167fcc",
   "metadata": {},
   "outputs": [
    {
     "name": "stdin",
     "output_type": "stream",
     "text": [
      "Enter the number of grams:  100\n"
     ]
    },
    {
     "name": "stdout",
     "output_type": "stream",
     "text": [
      "3.5273961980686726\n"
     ]
    }
   ],
   "source": [
    "def myfunc(grams):\n",
    "    return grams/28.3495231\n",
    "grams = float(input(\"Enter the number of grams: \"))\n",
    "ounces = myfunc(grams)\n",
    "print(ounces)"
   ]
  },
  {
   "cell_type": "markdown",
   "id": "5672f2c5-7929-415b-aa2c-b8af2a106966",
   "metadata": {},
   "source": [
    "2) Read in a Fahrenheit temperature. Calculate and display the equivalent centigrade temperature. The following formula is used for the conversion: C = (5 / 9) * (F – 32)"
   ]
  },
  {
   "cell_type": "code",
   "execution_count": 25,
   "id": "7f33df81-784c-48d9-a045-4b057e4f7204",
   "metadata": {},
   "outputs": [
    {
     "name": "stdin",
     "output_type": "stream",
     "text": [
      "Enter the Fahrenheit temperature 100\n"
     ]
    },
    {
     "name": "stdout",
     "output_type": "stream",
     "text": [
      "100.0 F = 37.78 C\n"
     ]
    }
   ],
   "source": [
    "def myfunc(Fahrenheit):\n",
    "    return (5/9)*(Fahrenheit-32)\n",
    "Fahrenheit = float(input(\"Enter the Fahrenheit temperature\"))\n",
    "Centigrade = myfunc(Fahrenheit)\n",
    "print(f\"{Fahrenheit} F = {Centigrade:.2f} C\")"
   ]
  },
  {
   "cell_type": "markdown",
   "id": "9407a8f8-a8fc-4b54-bd86-008e09569dc7",
   "metadata": {},
   "source": [
    "3) Write a program to solve a classic puzzle: We count 35 heads and 94 legs among the chickens and rabbits in a farm. How many rabbits and how many chickens do we have? create function: solve(numheads, numlegs):"
   ]
  },
  {
   "cell_type": "raw",
   "id": "0e707069-2e15-4fb1-827b-c986c7b6e913",
   "metadata": {},
   "source": [
    "\"\"\"\n",
    "numheads = heads\n",
    "numlegs = legs\n",
    "x = chickens\n",
    "y = rabbits\n",
    "{x + y = heads\n",
    "2x + 4y = legs}\n",
    "{x = heads - y\n",
    "2(heads - y) + 4y = legs}\n",
    "heads * 2 - 2y + 4y = legs\n",
    "heads * 2 + 2y = legs\n",
    "2y = legs - heads * 2\n",
    "y = (legs - heads * 2) / 2\n",
    "\"\"\""
   ]
  },
  {
   "cell_type": "code",
   "execution_count": 33,
   "id": "2f56c556-adb3-47c7-b24d-44677ff61828",
   "metadata": {},
   "outputs": [
    {
     "name": "stdout",
     "output_type": "stream",
     "text": [
      "Number of chickens: 23, Number of rabbits: 12\n"
     ]
    }
   ],
   "source": [
    "def solve(numheads, numlegs):\n",
    "    y = (numlegs - numheads * 2) // 2 \n",
    "    x = numheads - y\n",
    "    return x, y\n",
    "\n",
    "numheads = 35\n",
    "numlegs = 94\n",
    "chickens, rabbits = solve(numheads, numlegs)\n",
    "print(f\"Number of chickens: {chickens}, Number of rabbits: {rabbits}\")"
   ]
  },
  {
   "cell_type": "markdown",
   "id": "361d3cf1-a89a-47c3-8371-d9e811de42c2",
   "metadata": {},
   "source": [
    "4) You are given list of numbers separated by spaces. Write a function which will take list of numbers as an agrument and returns only prime numbers from the list.filter_prime"
   ]
  },
  {
   "cell_type": "code",
   "execution_count": 8,
   "id": "c7c98dbb-5661-4719-aeba-9f9b7bf24ec1",
   "metadata": {},
   "outputs": [
    {
     "name": "stdout",
     "output_type": "stream",
     "text": [
      "[5, 2, 31, 11, 23, 19]\n"
     ]
    }
   ],
   "source": [
    "def is_prime(x):\n",
    "    if x <= 1:\n",
    "        return False\n",
    "    for i in range(2, int(x ** 0.5) + 1):\n",
    "        if x % i == 0:  \n",
    "            return False\n",
    "    return True\n",
    "\n",
    "def filter_prime(numbers):\n",
    "    filtered_list = []\n",
    "    for num in numbers:\n",
    "        if is_prime(num):  \n",
    "            filtered_list.append(num)  \n",
    "    return filtered_list \n",
    "\n",
    "numbers = [5, 2, 31, 12, 11, 23, 19, 45]\n",
    "prime_numbers = filter_prime(numbers)\n",
    "print(prime_numbers)"
   ]
  },
  {
   "cell_type": "markdown",
   "id": "fed91656-a903-45a3-98d9-42f78db3f29a",
   "metadata": {},
   "source": [
    "5) Write a function that accepts string from user and print all permutations of that string."
   ]
  },
  {
   "cell_type": "code",
   "execution_count": 3,
   "id": "dbf9e50e-2d3a-4927-b604-5977d17275c7",
   "metadata": {},
   "outputs": [
    {
     "name": "stdin",
     "output_type": "stream",
     "text": [
      "Enter a string:  fdfd\n"
     ]
    },
    {
     "name": "stdout",
     "output_type": "stream",
     "text": [
      "fdfd\n",
      "fddf\n",
      "ffdd\n",
      "ffdd\n",
      "fddf\n",
      "fdfd\n",
      "dffd\n",
      "dfdf\n",
      "dffd\n",
      "dfdf\n",
      "ddff\n",
      "ddff\n",
      "ffdd\n",
      "ffdd\n",
      "fdfd\n",
      "fddf\n",
      "fdfd\n",
      "fddf\n",
      "dfdf\n",
      "dffd\n",
      "ddff\n",
      "ddff\n",
      "dffd\n",
      "dfdf\n"
     ]
    }
   ],
   "source": [
    "from itertools import permutations\n",
    "# permutations create all possible variants\n",
    "def all_permutations():\n",
    "    user_input = input(\"Enter a string: \")\n",
    "    perm_list = permutations(user_input)\n",
    "# itertools.permutations returns an iterator yielding tuples, so we join each tuple to form strings\n",
    "    for perm in perm_list:\n",
    "        print(\"\".join(perm))\n",
    "\n",
    "all_permutations()"
   ]
  },
  {
   "cell_type": "markdown",
   "id": "2cc39a30-1d31-44f4-8871-9e3568d8bee0",
   "metadata": {},
   "source": [
    "6) Write a function that accepts string from user, return a sentence with the words reversed. We are ready -> ready are We"
   ]
  },
  {
   "cell_type": "code",
   "execution_count": 7,
   "id": "3fbaafb5-782c-4b7c-9093-8f866af866a0",
   "metadata": {},
   "outputs": [
    {
     "name": "stdin",
     "output_type": "stream",
     "text": [
      "Enter a sentence:  we are ready\n"
     ]
    },
    {
     "name": "stdout",
     "output_type": "stream",
     "text": [
      "ready are we\n"
     ]
    }
   ],
   "source": [
    "def myfunc(sentence):\n",
    "    words = sentence.split() \n",
    "    reversed_sentence = \" \".join(reversed(words))  \n",
    "    return reversed_sentence\n",
    "\n",
    "user_input = input(\"Enter a sentence: \") \n",
    "print(myfunc(user_input)) "
   ]
  },
  {
   "cell_type": "markdown",
   "id": "f61ea8d6-d35a-49ad-95c6-fd28341b8b3f",
   "metadata": {},
   "source": [
    "7) Given a list of ints, return True if the array contains a 3 next to a 3 somewhere."
   ]
  },
  {
   "cell_type": "code",
   "execution_count": 16,
   "id": "72db9d08-e6fe-4d0d-b158-1c6083a0a151",
   "metadata": {},
   "outputs": [
    {
     "name": "stdout",
     "output_type": "stream",
     "text": [
      "True\n",
      "False\n",
      "False\n"
     ]
    }
   ],
   "source": [
    "def has_33(nums):\n",
    "    for i in range(len(nums) - 1):\n",
    "        if nums[i] == 3 and nums[i + 1] == 3: \n",
    "            return True  \n",
    "    return False  \n",
    "\n",
    "print(has_33([1, 3, 3]))\n",
    "print(has_33([1, 3, 1, 3]))\n",
    "print(has_33([3, 1, 3]))"
   ]
  },
  {
   "cell_type": "markdown",
   "id": "7f60f461-98b3-4e30-b463-7446b2c6a35c",
   "metadata": {},
   "source": [
    "8) Write a function that takes in a list of integers and returns True if it contains 007 in order"
   ]
  },
  {
   "cell_type": "code",
   "execution_count": 19,
   "id": "6bf479b1-bbdd-4c5f-b199-ce9c23975da7",
   "metadata": {},
   "outputs": [
    {
     "name": "stdout",
     "output_type": "stream",
     "text": [
      "True\n",
      "True\n",
      "False\n"
     ]
    }
   ],
   "source": [
    "def spy_game(nums):\n",
    "    code = [0, 0, 7] \n",
    "    \n",
    "    for num in nums:\n",
    "        if num == code[0]:  \n",
    "            code.pop(0)  \n",
    "        if not code:  \n",
    "            return True  \n",
    "    return False  \n",
    "\n",
    "print(spy_game([1, 2, 4, 0, 0, 7, 5])) \n",
    "print(spy_game([1, 0, 2, 4, 0, 5, 7]))  \n",
    "print(spy_game([1, 7, 2, 0, 4, 5, 0]))  "
   ]
  },
  {
   "cell_type": "markdown",
   "id": "6268ceee-f374-49cb-abaf-bfeddf9f236d",
   "metadata": {},
   "source": [
    "9) Write a function that computes the volume of a sphere given its radius."
   ]
  },
  {
   "cell_type": "code",
   "execution_count": 22,
   "id": "025dc436-8d68-4c6a-bf19-c64a56bd1ce7",
   "metadata": {},
   "outputs": [
    {
     "name": "stdin",
     "output_type": "stream",
     "text": [
      "Enter the radius of the sphere:  5\n"
     ]
    },
    {
     "name": "stdout",
     "output_type": "stream",
     "text": [
      "Volume of the sphere: 523.5987755982989\n"
     ]
    }
   ],
   "source": [
    "import math  \n",
    "def volume(radius):\n",
    "    return (4/3) * math.pi * (radius ** 3)\n",
    "\n",
    "r = float(input(\"Enter the radius of the sphere: \")) \n",
    "print(\"Volume of the sphere:\", volume(r))  "
   ]
  },
  {
   "cell_type": "markdown",
   "id": "b21b47fa-77cf-4b2b-b028-8842db81bfea",
   "metadata": {},
   "source": [
    "10) Write a Python function that takes a list and returns a new list with unique elements of the first list. Note: don't use collection set."
   ]
  },
  {
   "cell_type": "code",
   "execution_count": 35,
   "id": "9e1cf916-011a-4972-9d71-2455717b1638",
   "metadata": {},
   "outputs": [
    {
     "name": "stdin",
     "output_type": "stream",
     "text": [
      "Enter numbers:  2 22 2 2 3 3\n"
     ]
    },
    {
     "name": "stdout",
     "output_type": "stream",
     "text": [
      "Unique numbers: [2, 22, 3]\n"
     ]
    }
   ],
   "source": [
    "def unique_elements(lst):\n",
    "    unique_list = [] \n",
    "    for item in lst:\n",
    "        if item not in unique_list:  \n",
    "            unique_list.append(item)\n",
    "    return unique_list  \n",
    "\n",
    "user_input = input(\"Enter numbers: \") \n",
    "numbers = list(map(int, user_input.split())) \n",
    "print(\"Unique numbers:\", unique_elements(numbers))"
   ]
  },
  {
   "cell_type": "markdown",
   "id": "3515becc-3eed-4ce2-ac57-25d7dba96e83",
   "metadata": {},
   "source": [
    "11) Write a Python function that checks whether a word or phrase is palindrome or not. Note: A palindrome is word, phrase, or sequence that reads the same backward as forward, e.g., madam"
   ]
  },
  {
   "cell_type": "code",
   "execution_count": 41,
   "id": "d8b42eeb-fde6-4cff-9b25-c578a0efecd8",
   "metadata": {},
   "outputs": [
    {
     "name": "stdin",
     "output_type": "stream",
     "text": [
      "Enter a word or phrase:  madam\n"
     ]
    },
    {
     "name": "stdout",
     "output_type": "stream",
     "text": [
      "Palindrome\n"
     ]
    }
   ],
   "source": [
    "def is_palindrome(s):\n",
    "    s = s.replace(\" \", \"\").lower() \n",
    "    return s == s[::-1] \n",
    "    \n",
    "user_input = input(\"Enter a word or phrase: \")  \n",
    "if is_palindrome(user_input):\n",
    "    print(\"Palindrome\")\n",
    "else:\n",
    "    print(\"Not a palindrome\")"
   ]
  },
  {
   "cell_type": "markdown",
   "id": "7e0aa5a0-76b6-42d3-b2e7-76cf7812b259",
   "metadata": {},
   "source": [
    "12) Define a functino histogram() that takes a list of integers and prints a histogram to the screen. For example, histogram([4, 9, 7]) should print the following:"
   ]
  },
  {
   "cell_type": "code",
   "execution_count": 54,
   "id": "05e4568c-7c01-439c-ae21-6c368af845a4",
   "metadata": {},
   "outputs": [
    {
     "name": "stdout",
     "output_type": "stream",
     "text": [
      "****\n",
      "*********\n",
      "*******\n"
     ]
    }
   ],
   "source": [
    "def histogram(numbers):\n",
    "    for num in numbers:\n",
    "        print('*' * num) \n",
    "histogram([4, 9, 7])\n"
   ]
  },
  {
   "cell_type": "markdown",
   "id": "6cce125e-aa85-4b7f-9a7b-70a54eeecbde",
   "metadata": {},
   "source": [
    "13)Write a program able to play the \"Guess the number\" - game, where the number to be guessed is randomly chosen between 1 and 20. This is how it should work when run in a terminal:"
   ]
  },
  {
   "cell_type": "code",
   "execution_count": 57,
   "id": "c4f26516-8d89-4d61-8078-9fc84e8093a9",
   "metadata": {},
   "outputs": [
    {
     "name": "stdout",
     "output_type": "stream",
     "text": [
      "Hello! What is your name?\n"
     ]
    },
    {
     "name": "stdin",
     "output_type": "stream",
     "text": [
      " лиег\n"
     ]
    },
    {
     "name": "stdout",
     "output_type": "stream",
     "text": [
      "\n",
      "Well, лиег, I am thinking of a number between 1 and 20.\n",
      "\n",
      "Take a guess.\n"
     ]
    },
    {
     "name": "stdin",
     "output_type": "stream",
     "text": [
      " і\n"
     ]
    },
    {
     "name": "stdout",
     "output_type": "stream",
     "text": [
      "\n",
      "Please enter a valid number between 1 and 20.\n",
      "\n",
      "Take a guess.\n"
     ]
    },
    {
     "name": "stdin",
     "output_type": "stream",
     "text": [
      " 3\n"
     ]
    },
    {
     "name": "stdout",
     "output_type": "stream",
     "text": [
      "\n",
      "Your guess is too low.\n",
      "\n",
      "Take a guess.\n"
     ]
    },
    {
     "name": "stdin",
     "output_type": "stream",
     "text": [
      " 12\n"
     ]
    },
    {
     "name": "stdout",
     "output_type": "stream",
     "text": [
      "\n",
      "Your guess is too low.\n",
      "\n",
      "Take a guess.\n"
     ]
    },
    {
     "name": "stdin",
     "output_type": "stream",
     "text": [
      " 14\n"
     ]
    },
    {
     "name": "stdout",
     "output_type": "stream",
     "text": [
      "\n",
      "Your guess is too low.\n",
      "\n",
      "Take a guess.\n"
     ]
    },
    {
     "name": "stdin",
     "output_type": "stream",
     "text": [
      " 16\n"
     ]
    },
    {
     "name": "stdout",
     "output_type": "stream",
     "text": [
      "\n",
      "Good job, лиег! You guessed my number in 4 guesses!\n"
     ]
    }
   ],
   "source": [
    "import random\n",
    "\n",
    "def guess_the_number():\n",
    "    print(\"Hello! What is your name?\")\n",
    "    name = input()\n",
    "\n",
    "    print(f\"\\nWell, {name}, I am thinking of a number between 1 and 20.\")\n",
    "    number_to_guess = random.randint(1, 20)  \n",
    "    attempts = 0  \n",
    "\n",
    "    while True:\n",
    "        try:\n",
    "            print(\"\\nTake a guess.\")\n",
    "            guess = int(input()) \n",
    "            attempts += 1\n",
    "\n",
    "            if guess < number_to_guess:\n",
    "                print(\"\\nYour guess is too low.\")\n",
    "            elif guess > number_to_guess:\n",
    "                print(\"\\nYour guess is too high.\")\n",
    "            else:\n",
    "                print(f\"\\nGood job, {name}! You guessed my number in {attempts} guesses!\")\n",
    "                break \n",
    "        except ValueError:\n",
    "            print(\"\\nPlease enter a valid number between 1 and 20.\")\n",
    "\n",
    "guess_the_number()"
   ]
  },
  {
   "cell_type": "code",
   "execution_count": null,
   "id": "9b8bff5f-194c-4f17-b76c-b6687af22fce",
   "metadata": {},
   "outputs": [],
   "source": []
  }
 ],
 "metadata": {
  "kernelspec": {
   "display_name": "Python [conda env:base] *",
   "language": "python",
   "name": "conda-base-py"
  },
  "language_info": {
   "codemirror_mode": {
    "name": "ipython",
    "version": 3
   },
   "file_extension": ".py",
   "mimetype": "text/x-python",
   "name": "python",
   "nbconvert_exporter": "python",
   "pygments_lexer": "ipython3",
   "version": "3.12.7"
  }
 },
 "nbformat": 4,
 "nbformat_minor": 5
}
