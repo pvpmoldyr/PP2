{
 "cells": [
  {
   "cell_type": "markdown",
   "id": "445d34e8-422a-4d1a-b04f-d8471c689ba8",
   "metadata": {},
   "source": [
    "1) Write a Python program that matches a string that has an `'a'` followed by zero or more `'b'`'s."
   ]
  },
  {
   "cell_type": "code",
   "execution_count": 1,
   "id": "e3a6b8c1-8741-4104-80bb-930025dee4d1",
   "metadata": {},
   "outputs": [
    {
     "name": "stdout",
     "output_type": "stream",
     "text": [
      "'abb': YES! We have a match!\n",
      "'abbbbb': YES! We have a match!\n",
      "'a': YES! We have a match!\n",
      "'b': YES! We have a match!\n",
      "'ba': No match\n",
      "'': YES! We have a match!\n"
     ]
    }
   ],
   "source": [
    "import re\n",
    "\n",
    "def myfunc(x):\n",
    "    if re.search('^a*b*$', x):\n",
    "        return \"YES! We have a match!\"\n",
    "    else:\n",
    "        return \"No match\"\n",
    "        \n",
    "txt = [\"abb\", \"abbbbb\", \"a\", \"b\", \"ba\", \"\"]\n",
    "\n",
    "for i in txt:\n",
    "    print(f\"'{i}': {myfunc(i)}\")"
   ]
  },
  {
   "cell_type": "markdown",
   "id": "aafc014a-1339-401d-ac1e-e8fa6689c78e",
   "metadata": {},
   "source": [
    "2) Write a Python program that matches a string that has an `'a'` followed by two to three `'b'`."
   ]
  },
  {
   "cell_type": "code",
   "execution_count": 3,
   "id": "3fe4d066-c615-44a2-8874-4e1e78e20768",
   "metadata": {},
   "outputs": [
    {
     "name": "stdout",
     "output_type": "stream",
     "text": [
      "'abb': YES! We have a match!\n",
      "'abbbbb': No match\n",
      "'abbb': YES! We have a match!\n",
      "'b': No match\n",
      "'ba': No match\n",
      "'ab': No match\n",
      "'': No match\n"
     ]
    }
   ],
   "source": [
    "import re\n",
    "\n",
    "def myfunc(x):\n",
    "    if re.search('^ab{2,3}$', x):\n",
    "        return \"YES! We have a match!\"\n",
    "    else:\n",
    "        return \"No match\"\n",
    "        \n",
    "txt = [\"abb\", \"abbbbb\", \"abbb\", \"b\", \"ba\", \"ab\", \"\"]\n",
    "\n",
    "for i in txt:\n",
    "    print(f\"'{i}': {myfunc(i)}\")"
   ]
  },
  {
   "cell_type": "markdown",
   "id": "3cceabd9-b490-4c3b-b281-902e34a36c6a",
   "metadata": {},
   "source": [
    "3) Write a Python program to find sequences of lowercase letters joined with a underscore."
   ]
  },
  {
   "cell_type": "code",
   "execution_count": 125,
   "id": "9240a6dd-98ac-4fd4-89fd-05a830101523",
   "metadata": {},
   "outputs": [
    {
     "name": "stdout",
     "output_type": "stream",
     "text": [
      "Sequences: ['abc_def', 'fgh_jkl', 'asdfghh_swsww']\n"
     ]
    }
   ],
   "source": [
    "import re\n",
    "\n",
    "def find_sequences(x):\n",
    "    return re.findall(r'\\b[a-z]+_[a-z]+\\b', x)\n",
    "\n",
    "txt = \"abc_def, fgh_jkl, asdfghh_swsww, Asdf\"\n",
    "print(\"Sequences:\",find_sequences(txt))"
   ]
  },
  {
   "cell_type": "markdown",
   "id": "1584762a-db51-4d5d-a9bf-542ce3b01608",
   "metadata": {},
   "source": [
    "4) Write a Python program to find the sequences of one upper case letter followed by lower case letters.\n",
    "\n"
   ]
  },
  {
   "cell_type": "code",
   "execution_count": 127,
   "id": "e9fd8797-21d9-44f9-b3ba-5f7cd290af7c",
   "metadata": {},
   "outputs": [
    {
     "name": "stdout",
     "output_type": "stream",
     "text": [
      "Sequences: ['Adfghj', 'Home']\n"
     ]
    }
   ],
   "source": [
    "import re\n",
    "\n",
    "def find_sequences(x):\n",
    "    return re.findall(r'\\b[A-Z][a-z]+\\b', x)\n",
    "\n",
    "txt = \"Adfghj , SSSS, fghh, dfgA, Home\"\n",
    "print(\"Sequences:\", find_sequences(txt))"
   ]
  },
  {
   "cell_type": "markdown",
   "id": "bd25935b-8720-430d-998d-775068b4d6bf",
   "metadata": {},
   "source": [
    "5) Write a Python program that matches a string that has an 'a' followed by anything, ending in 'b'."
   ]
  },
  {
   "cell_type": "code",
   "execution_count": 129,
   "id": "f52f47e1-ad35-4475-9c72-da83cf05525d",
   "metadata": {},
   "outputs": [
    {
     "name": "stdout",
     "output_type": "stream",
     "text": [
      "'agdkgjb': YES! We have a match!\n",
      "'ASF': No match\n",
      "'sdfb': No match\n",
      "'sdab': No match\n",
      "'ba': No match\n",
      "'ab': YES! We have a match!\n"
     ]
    }
   ],
   "source": [
    "import re\n",
    "\n",
    "def match_string(x):\n",
    "    if re.search(r'^a.*b$', x):\n",
    "        return \"YES! We have a match!\"\n",
    "    else:\n",
    "        return \"No match\"\n",
    "\n",
    "txt = [\"agdkgjb\", \"ASF\", \"sdfb\", \"sdab\", \"ba\", \"ab\"]\n",
    "for i in txt:\n",
    "    print(f\"'{i}': {match_string (i)}\")"
   ]
  },
  {
   "cell_type": "markdown",
   "id": "4f1d20d1-8f8c-462a-8be9-878d37920dbd",
   "metadata": {},
   "source": [
    "6) Write a Python program to replace all occurrences of space, comma, or dot with a colon."
   ]
  },
  {
   "cell_type": "code",
   "execution_count": 131,
   "id": "28c375d5-ae47-4e60-a4ba-06650ea16566",
   "metadata": {},
   "outputs": [
    {
     "name": "stdout",
     "output_type": "stream",
     "text": [
      "The:rain:in:Spain::is:good::The:snow:in:Kazacstan:too\n"
     ]
    }
   ],
   "source": [
    "import re\n",
    "def replace_occurrences(x):\n",
    "    return re.sub(\"[ ,.]\", \":\", x)\n",
    "        \n",
    "txt = \"The rain in Spain, is good. The snow in Kazacstan too\"\n",
    "print(replace_occurrences(txt))"
   ]
  },
  {
   "cell_type": "markdown",
   "id": "61e6745b-4ca2-48e5-afbb-01013683a90e",
   "metadata": {},
   "source": [
    "7) Write a python program to convert snake case string to camel case string."
   ]
  },
  {
   "cell_type": "code",
   "execution_count": 135,
   "id": "ae67168f-6614-4d28-8ff1-ce31504342db",
   "metadata": {},
   "outputs": [
    {
     "name": "stdout",
     "output_type": "stream",
     "text": [
      "IWantSleep\n"
     ]
    }
   ],
   "source": [
    "import re\n",
    "def snake_to_camel(x):\n",
    "    return ''.join(word.capitalize() for word in x.split('_'))\n",
    "txt = \"I_want_sleep\"\n",
    "print(snake_to_camel(txt))  "
   ]
  },
  {
   "cell_type": "markdown",
   "id": "9861e074-afdc-4bf8-a22c-c70b28631e6d",
   "metadata": {},
   "source": [
    "8) Write a Python program to split a string at uppercase letters."
   ]
  },
  {
   "cell_type": "code",
   "execution_count": 143,
   "id": "54d643ee-60ec-4eaf-bcc1-8afa6f2a17ca",
   "metadata": {},
   "outputs": [
    {
     "name": "stdout",
     "output_type": "stream",
     "text": [
      "['Oh', 'My', 'God']\n"
     ]
    }
   ],
   "source": [
    "import re\n",
    "\n",
    "def split_at_uppercase(s):\n",
    "    return re.findall(r'[A-Z][a-z]*', s)\n",
    "\n",
    "txt = \"OhMyGod\"\n",
    "print(split_at_uppercase(txt))  "
   ]
  },
  {
   "cell_type": "markdown",
   "id": "5ffc9c90-d3a7-4fe8-b43f-978083391148",
   "metadata": {},
   "source": [
    "9) Write a Python program to insert spaces between words starting with capital letters."
   ]
  },
  {
   "cell_type": "code",
   "execution_count": 145,
   "id": "99482f31-3eec-4a27-98f7-652a103a2995",
   "metadata": {},
   "outputs": [
    {
     "name": "stdout",
     "output_type": "stream",
     "text": [
      "Event Is End\n"
     ]
    }
   ],
   "source": [
    "import re\n",
    "def capital_words_spaces(x):\n",
    "  return re.sub(r\"(\\w)([A-Z])\", r\"\\1 \\2\", x)\n",
    "txt = \"EventIsEnd\"\n",
    "print(capital_words_spaces(txt))"
   ]
  },
  {
   "cell_type": "markdown",
   "id": "42a5861d-7011-41bc-be74-7e33eea19074",
   "metadata": {},
   "source": [
    "10) Write a Python program to convert a given camel case string to snake case."
   ]
  },
  {
   "cell_type": "code",
   "execution_count": 159,
   "id": "0dcd0cd7-ee5e-4602-a517-9e8635ba539f",
   "metadata": {},
   "outputs": [
    {
     "name": "stdout",
     "output_type": "stream",
     "text": [
      "midtern_is_cancelled\n"
     ]
    }
   ],
   "source": [
    "import re\n",
    "\n",
    "s1 = \"MidternIsCancelled\"\n",
    "s2 = re.sub(r'([a-z])([A-Z])', r'\\1_\\2', s1).lower()\n",
    "\n",
    "print(s2)"
   ]
  },
  {
   "cell_type": "code",
   "execution_count": null,
   "id": "59649ec3-0c09-40c2-96ba-012097464acc",
   "metadata": {},
   "outputs": [],
   "source": []
  },
  {
   "cell_type": "code",
   "execution_count": null,
   "id": "9818f7e0-1cad-4030-a5f6-dfb6aacad3ef",
   "metadata": {},
   "outputs": [],
   "source": []
  }
 ],
 "metadata": {
  "kernelspec": {
   "display_name": "Python [conda env:base] *",
   "language": "python",
   "name": "conda-base-py"
  },
  "language_info": {
   "codemirror_mode": {
    "name": "ipython",
    "version": 3
   },
   "file_extension": ".py",
   "mimetype": "text/x-python",
   "name": "python",
   "nbconvert_exporter": "python",
   "pygments_lexer": "ipython3",
   "version": "3.12.7"
  }
 },
 "nbformat": 4,
 "nbformat_minor": 5
}
