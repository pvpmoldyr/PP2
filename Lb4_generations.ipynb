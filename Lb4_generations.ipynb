{
 "cells": [
  {
   "cell_type": "markdown",
   "id": "9d460f45-85f8-49eb-a718-26519eeb2201",
   "metadata": {},
   "source": [
    "1) Create a generator that generates the squares of numbers up to some number N."
   ]
  },
  {
   "cell_type": "code",
   "execution_count": 4,
   "id": "5f21b16f-ba76-46ab-a108-ef1144d4b4f6",
   "metadata": {},
   "outputs": [
    {
     "name": "stdin",
     "output_type": "stream",
     "text": [
      "Enter number N:  3\n"
     ]
    },
    {
     "name": "stdout",
     "output_type": "stream",
     "text": [
      "0\n",
      "1\n",
      "4\n",
      "9\n"
     ]
    }
   ],
   "source": [
    "def myfunc(n):\n",
    "    for i in range(n + 1):\n",
    "        yield i ** 2\n",
    "\n",
    "n = int(input(\"Enter number N: \"))\n",
    "for square in myfunc(n):\n",
    "    print(square)"
   ]
  },
  {
   "cell_type": "markdown",
   "id": "d62b0ca2-5e3f-43ad-81ee-99c4116976b2",
   "metadata": {},
   "source": [
    "2) Write a program using generator to print the even numbers between 0 and n in comma separated form where n is input from console."
   ]
  },
  {
   "cell_type": "code",
   "execution_count": 7,
   "id": "129d7531-bf0d-4c13-8233-4f9d481cc2e8",
   "metadata": {},
   "outputs": [
    {
     "name": "stdin",
     "output_type": "stream",
     "text": [
      "Enter number N:  4\n"
     ]
    },
    {
     "name": "stdout",
     "output_type": "stream",
     "text": [
      "0,2,4\n"
     ]
    }
   ],
   "source": [
    "def even_func(n):\n",
    "    for i in range(n + 1):\n",
    "        if i % 2 == 0:\n",
    "            yield i\n",
    "\n",
    "n = int(input(\"Enter number N: \"))\n",
    "print(\",\".join(map(str, even_func(n))))"
   ]
  },
  {
   "cell_type": "markdown",
   "id": "26f9ff5b-199e-43d5-b9a6-7aa5d7cc5e8c",
   "metadata": {},
   "source": [
    "3) Define a function with a generator which can iterate the numbers, which are divisible by 3 and 4, between a given range 0 and n."
   ]
  },
  {
   "cell_type": "code",
   "execution_count": 11,
   "id": "d37a2b07-4c01-4649-a156-d4f7dbc0e544",
   "metadata": {},
   "outputs": [
    {
     "name": "stdin",
     "output_type": "stream",
     "text": [
      "Enter number N:  12\n"
     ]
    },
    {
     "name": "stdout",
     "output_type": "stream",
     "text": [
      "0\n",
      "12\n"
     ]
    }
   ],
   "source": [
    "def divisible_func(n):\n",
    "    for i in range(n + 1):\n",
    "        if i % 3 == 0 and i % 4 == 0:\n",
    "            yield i\n",
    "\n",
    "n = int(input(\"Enter number N: \"))\n",
    "for num in divisible_func(n):\n",
    "    print(num)"
   ]
  },
  {
   "cell_type": "markdown",
   "id": "0f148ced-9c5f-49e3-ac3d-af5c1934c798",
   "metadata": {},
   "source": [
    "4) Implement a generator called squares to yield the square of all numbers from (a) to (b). Test it with a \"for\" loop and print each of the yielded values."
   ]
  },
  {
   "cell_type": "code",
   "execution_count": 14,
   "id": "fd395c3d-8f86-4d57-b722-d8e5ed46c2ee",
   "metadata": {},
   "outputs": [
    {
     "name": "stdin",
     "output_type": "stream",
     "text": [
      "Begin interval A:  4\n",
      "End interval B:  7\n"
     ]
    },
    {
     "name": "stdout",
     "output_type": "stream",
     "text": [
      "16\n",
      "25\n",
      "36\n",
      "49\n"
     ]
    }
   ],
   "source": [
    "def squares(a, b):\n",
    "    for i in range(a, b + 1):\n",
    "        yield i ** 2\n",
    "\n",
    "a = int(input(\"Begin interval A: \"))\n",
    "b = int(input(\"End interval B: \"))\n",
    "\n",
    "for square in squares(a, b):\n",
    "    print(square)"
   ]
  },
  {
   "cell_type": "markdown",
   "id": "b39be0a2-7155-4d65-82d7-297620bedf00",
   "metadata": {},
   "source": [
    "5) Implement a generator that returns all numbers from (n) down to 0."
   ]
  },
  {
   "cell_type": "code",
   "execution_count": 17,
   "id": "8f9e3283-4033-4ed5-b32e-6938c0e3abcb",
   "metadata": {},
   "outputs": [
    {
     "name": "stdin",
     "output_type": "stream",
     "text": [
      "Enter number N:  5\n"
     ]
    },
    {
     "name": "stdout",
     "output_type": "stream",
     "text": [
      "5\n",
      "4\n",
      "3\n",
      "2\n",
      "1\n",
      "0\n"
     ]
    }
   ],
   "source": [
    "def countdown(n):\n",
    "    for i in range(n, -1, -1):\n",
    "        yield i\n",
    "\n",
    "n = int(input(\"Enter number N: \"))\n",
    "for num in countdown(n):\n",
    "    print(num)"
   ]
  },
  {
   "cell_type": "code",
   "execution_count": null,
   "id": "0d1fac7b-6f3f-4d8d-898f-d5d92a755bf1",
   "metadata": {},
   "outputs": [],
   "source": []
  }
 ],
 "metadata": {
  "kernelspec": {
   "display_name": "Python [conda env:base] *",
   "language": "python",
   "name": "conda-base-py"
  },
  "language_info": {
   "codemirror_mode": {
    "name": "ipython",
    "version": 3
   },
   "file_extension": ".py",
   "mimetype": "text/x-python",
   "name": "python",
   "nbconvert_exporter": "python",
   "pygments_lexer": "ipython3",
   "version": "3.12.7"
  }
 },
 "nbformat": 4,
 "nbformat_minor": 5
}
